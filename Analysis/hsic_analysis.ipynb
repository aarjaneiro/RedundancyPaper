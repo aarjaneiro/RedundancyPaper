{
 "cells": [
  {
   "cell_type": "code",
   "execution_count": 19,
   "outputs": [],
   "source": [
    "#!python setup.py build_ext --inplace --force # sets up package under /redundancy\n",
    "#!pip install git+https://github.com/aarjaneiro/ParallelQueue@cythonized --force-reinstall\n",
    "#!pip install hyppo # alternative impnt."
   ],
   "metadata": {
    "collapsed": false,
    "pycharm": {
     "name": "#%%\n"
    }
   }
  },
  {
   "cell_type": "code",
   "execution_count": 20,
   "outputs": [
    {
     "name": "stdout",
     "output_type": "stream",
     "text": [
      "The Cython extension is already loaded. To reload it, use:\n",
      "  %reload_ext Cython\n"
     ]
    }
   ],
   "source": [
    "%load_ext Cython\n",
    "# Imports\n",
    "import io\n",
    "import multiprocessing as mp\n",
    "import gc\n",
    "from contextlib import redirect_stdout\n",
    "from redundancy import hsic\n",
    "import time\n",
    "from matplotlib import pyplot as plt\n",
    "from parallelqueue.base_models import *\n",
    "from parallelqueue.monitors import *\n",
    "ncpus = mp.cpu_count()\n"
   ],
   "metadata": {
    "collapsed": false,
    "pycharm": {
     "name": "#%%\n"
    }
   }
  },
  {
   "cell_type": "code",
   "execution_count": 21,
   "outputs": [],
   "source": [
    "# User-set params\n",
    "simrep = 20 # set to cores utilized in parallel to limit amount held in memory\n",
    "if simrep>ncpus: print(\"simrep should be <= to be safe\")\n",
    "ToOrder = [5, 50, 100, 500] # N values to test\n",
    "# WARNING: N values too high can r/esult in memory leaks!\n",
    "seed = 1996\n",
    "maxtime = 100 # max time used across all sims\n",
    "rng = hsic.spanning_grid_uniform(maxtime - 1) # times to sample\n",
    "alpha = 0.1\n"
   ],
   "metadata": {
    "collapsed": false,
    "pycharm": {
     "name": "#%%\n"
    }
   }
  },
  {
   "cell_type": "code",
   "execution_count": 22,
   "outputs": [
    {
     "name": "stdout",
     "output_type": "stream",
     "text": [
      "Using ncpus=20\n"
     ]
    }
   ],
   "source": [
    "print(f\"Using ncpus={simrep}\")\n",
    "class Concurrent:\n",
    "    def __init__(self, maxtime=1000, rho = 0.9, d=2, r=2,\n",
    "                 order=range(2, 1000, 2), seed=123):\n",
    "        self.rhoJSim = None\n",
    "        self.r = r\n",
    "        self.order = order\n",
    "        self.d = d\n",
    "        self.rho = rho\n",
    "        self.maxtime = maxtime\n",
    "        self._ts = None\n",
    "        self.seed = seed\n",
    "\n",
    "    def WriteEach(self, simrep=1, of=[\"TSim\"], ts=True):\n",
    "        \"\"\"                   v rep within run\n",
    "        res['Thresh(2,2)'][0][0].keys()\n",
    "                           ^run (N-size)\n",
    "        Out[9]: dict_keys(['ReplicaSets', 'TimeQueueSize'])\"\"\"\n",
    "        self._ts = ts\n",
    "        self._sims = simrep\n",
    "        labels = {self.RSim: f\"Redundancy({self.d})\", self.JSim: f\"JSQ({self.d})\",\n",
    "                  self.TSim: f\"Thresh({self.d},{self.r})\"}\n",
    "        self.res = {}\n",
    "        for sim in [self.__getattribute__(i) for i in of]:\n",
    "            print(f\"Running {sim}\")\n",
    "            self.res[labels[sim]] = self.ParallelSim(sim)\n",
    "\n",
    "    def DoEach(self, of=[\"TSim\"], iters=1):\n",
    "        self._ts = False\n",
    "        labels = {self.RSim: f\"Redundancy({self.d})\", self.JSim: f\"JSQ({self.d})\",\n",
    "                  self.TSim: f\"Thresh({self.d},{self.r})\"}\n",
    "        self.res = {}\n",
    "        for sim in [self.__getattribute__(i) for i in of]:\n",
    "            print(f\"Running {sim}\")\n",
    "            results = self.ParallelSim(sim)\n",
    "            self.res[labels[sim]] = pd.DataFrame(results)\n",
    "        for k, v in self.res.items():\n",
    "            plt.plot(v, label=k)\n",
    "        plt.legend()\n",
    "        if iters == 1:\n",
    "            plt.title(\"Average Time in System as N → ∞\")\n",
    "\n",
    "    def RSim(self, reps):\n",
    "        mons = [TimeQueueSize]\n",
    "        testvalues = []\n",
    "        for N in (self.order):\n",
    "            _sim = RedundancyQueueSystem(maxTime=self.maxtime, parallelism=N, seed=self.seed + 2331 * N + reps,\n",
    "                                         d=self.d,\n",
    "                                         Arrival=random.expovariate,\n",
    "                                         AArgs=(self.rho*N)/self.d, Service=random.expovariate, SArgs=1,\n",
    "                                         Monitors=mons)\n",
    "            _sim.RunSim()\n",
    "            testvalues.append(_sim.MonitorOutput)\n",
    "        if not self._ts:\n",
    "            return np.array(testvalues)\n",
    "        else:\n",
    "            return np.mean(testvalues)\n",
    "\n",
    "    def JSim(self, reps):\n",
    "        mons = [TimeQueueSize]\n",
    "        testvalues = []\n",
    "        for N in (self.order):\n",
    "            _sim = JSQd(maxTime=self.maxtime, parallelism=N, seed=self.seed + 2331 * N + reps, d=self.d,\n",
    "                        Arrival=random.expovariate,\n",
    "                        AArgs=(self.rho*N)/self.d, Service=random.expovariate, SArgs=1,\n",
    "                        Monitors=mons)\n",
    "            _sim.RunSim()\n",
    "            testvalues.append(_sim.MonitorOutput)\n",
    "        if not self._ts:\n",
    "            return np.array(testvalues)\n",
    "        else:\n",
    "            return np.mean(testvalues)\n",
    "\n",
    "    def TSim(self, reps):\n",
    "        mons = [TimeQueueSize]\n",
    "        testvalues = []\n",
    "        for N in (self.order):\n",
    "            _sim = ParallelQueueSystem(maxTime=self.maxtime, parallelism=N, seed=self.seed + 2331 * N + reps,\n",
    "                                         d=self.d,\n",
    "                                         r=self.r,\n",
    "                                         Arrival=random.expovariate,\n",
    "                                         AArgs=(self.rho*N)/self.d, Service=random.expovariate, SArgs=1,\n",
    "                                         Monitors=mons)\n",
    "            _sim.RunSim()\n",
    "            testvalues.append(_sim.MonitorOutput)\n",
    "        if not self._ts:\n",
    "            return np.array(testvalues)\n",
    "        else:\n",
    "            return np.mean(testvalues)\n",
    "\n",
    "\n",
    "    def ParallelSim(self, sim):\n",
    "        with mp.Pool(processes=ncpus) as p:\n",
    "            res = p.map(sim, range(self._sims))\n",
    "        return res\n",
    "\n",
    "    def Results(self):\n",
    "        return self.res\n",
    "\n",
    "\n",
    "def SafeRun(maxtime=1000, rho = 0.9, d=2, r=2, order=range(2, 20, 2),\n",
    "            of=\"TSim\", seed=123, simrep=1, ts=True):  # Throws out Concurrent when done\n",
    "    \"\"\"\n",
    "    Parallelized simulations with lambda such that\n",
    "    rho = (d*lambda)/(mu*N) and mu = 1\n",
    "    <=> lambda = (N*rho)/d.\n",
    "    \"\"\"\n",
    "    run = Concurrent(maxtime, rho, d, r, order, seed)\n",
    "    run.WriteEach(of=[of], simrep=simrep, ts=ts)\n",
    "    return run.Results()"
   ],
   "metadata": {
    "collapsed": false,
    "pycharm": {
     "name": "#%%\n"
    }
   }
  },
  {
   "cell_type": "code",
   "execution_count": 23,
   "outputs": [
    {
     "data": {
      "text/plain": "73"
     },
     "execution_count": 23,
     "metadata": {},
     "output_type": "execute_result"
    }
   ],
   "source": [
    "def rearrange_for_test(results, which = 0, ToOrder=ToOrder):\n",
    "    per_queue = {q: [] for q in range(ToOrder[which])}\n",
    "    for sim in range(simrep):\n",
    "        sim_results=results[sim][0][\"TimeQueueSize\"]\n",
    "        queue_times = {q:{} for q in range(ToOrder[which])}\n",
    "        for time, value in sim_results.items():\n",
    "            for queue in range(ToOrder[which]):\n",
    "                queue_times[queue][time] = value[queue]\n",
    "\n",
    "        for queue in range(ToOrder[which]):\n",
    "            per_queue[queue].append(queue_times[queue])\n",
    "    return per_queue\n",
    "def arr_t(X):\n",
    "    return np.array(X).transpose()\n",
    "gc.collect() # clear memory of clutter from imports"
   ],
   "metadata": {
    "collapsed": false,
    "pycharm": {
     "name": "#%%\n"
    }
   }
  },
  {
   "cell_type": "code",
   "execution_count": 24,
   "outputs": [
    {
     "name": "stdout",
     "output_type": "stream",
     "text": [
      "Running <bound method Concurrent.TSim of <__main__.Concurrent object at 0x7f478d119940>>\n",
      "Running <bound method Concurrent.TSim of <__main__.Concurrent object at 0x7f4804172fa0>>\n",
      "Running <bound method Concurrent.TSim of <__main__.Concurrent object at 0x7f48ac154d30>>\n",
      "Running <bound method Concurrent.TSim of <__main__.Concurrent object at 0x7f48ac1594f0>>\n",
      "Running <bound method Concurrent.TSim of <__main__.Concurrent object at 0x7f4764fc7940>>\n",
      "Running <bound method Concurrent.TSim of <__main__.Concurrent object at 0x7f48ac154d30>>\n",
      "Running <bound method Concurrent.TSim of <__main__.Concurrent object at 0x7f48ac1594f0>>\n",
      "Running <bound method Concurrent.TSim of <__main__.Concurrent object at 0x7f4764fc7940>>\n",
      "Running <bound method Concurrent.TSim of <__main__.Concurrent object at 0x7f4804172fa0>>\n"
     ]
    },
    {
     "ename": "IndexError",
     "evalue": "list index out of range",
     "output_type": "error",
     "traceback": [
      "\u001B[0;31m---------------------------------------------------------------------------\u001B[0m",
      "\u001B[0;31mIndexError\u001B[0m                                Traceback (most recent call last)",
      "\u001B[0;32m<ipython-input-24-146106f19316>\u001B[0m in \u001B[0;36m<module>\u001B[0;34m\u001B[0m\n\u001B[1;32m     25\u001B[0m                 \u001B[0mf\u001B[0m \u001B[0;34m=\u001B[0m \u001B[0mio\u001B[0m\u001B[0;34m.\u001B[0m\u001B[0mStringIO\u001B[0m\u001B[0;34m(\u001B[0m\u001B[0;34m)\u001B[0m\u001B[0;34m\u001B[0m\u001B[0;34m\u001B[0m\u001B[0m\n\u001B[1;32m     26\u001B[0m                 \u001B[0;32mwith\u001B[0m \u001B[0mredirect_stdout\u001B[0m\u001B[0;34m(\u001B[0m\u001B[0mf\u001B[0m\u001B[0;34m)\u001B[0m\u001B[0;34m:\u001B[0m\u001B[0;34m\u001B[0m\u001B[0;34m\u001B[0m\u001B[0m\n\u001B[0;32m---> 27\u001B[0;31m                     \u001B[0mtest\u001B[0m\u001B[0;34m=\u001B[0m\u001B[0mhsic\u001B[0m\u001B[0;34m.\u001B[0m\u001B[0mdHSIC_resample_test\u001B[0m\u001B[0;34m(\u001B[0m\u001B[0;34m[\u001B[0m\u001B[0marr_t\u001B[0m\u001B[0;34m(\u001B[0m\u001B[0mhsic\u001B[0m\u001B[0;34m.\u001B[0m\u001B[0mtime_sampler\u001B[0m\u001B[0;34m(\u001B[0m\u001B[0msim_per_queue\u001B[0m\u001B[0;34m[\u001B[0m\u001B[0mm\u001B[0m\u001B[0;34m]\u001B[0m\u001B[0;34m,\u001B[0m \u001B[0mrng\u001B[0m\u001B[0;34m)\u001B[0m\u001B[0;34m)\u001B[0m \u001B[0;32mfor\u001B[0m \u001B[0mm\u001B[0m \u001B[0;32min\u001B[0m \u001B[0mrange\u001B[0m\u001B[0;34m(\u001B[0m\u001B[0mToOrder\u001B[0m\u001B[0;34m[\u001B[0m\u001B[0mi\u001B[0m\u001B[0;34m]\u001B[0m\u001B[0;34m)\u001B[0m\u001B[0;34m]\u001B[0m\u001B[0;34m,\u001B[0m \u001B[0;36m100\u001B[0m\u001B[0;34m)\u001B[0m\u001B[0;34m\u001B[0m\u001B[0;34m\u001B[0m\u001B[0m\n\u001B[0m\u001B[1;32m     28\u001B[0m                     \u001B[0;32massert\u001B[0m \u001B[0mtest\u001B[0m \u001B[0;34m<=\u001B[0m \u001B[0;36m1\u001B[0m\u001B[0;34m\u001B[0m\u001B[0;34m\u001B[0m\u001B[0m\n\u001B[1;32m     29\u001B[0m                 \u001B[0mls\u001B[0m\u001B[0;34m.\u001B[0m\u001B[0mwrite\u001B[0m\u001B[0;34m(\u001B[0m\u001B[0;34mf\"{r if i == int(np.median(range(len(ToOrder) + 2))) else ''} & {ToOrder[i]} & {thresh} & {round(test,3) if test is not None else None} {sig(test)} \\\\\\ \\n\"\u001B[0m\u001B[0;34m)\u001B[0m\u001B[0;34m\u001B[0m\u001B[0;34m\u001B[0m\u001B[0m\n",
      "\u001B[0;32m<ipython-input-24-146106f19316>\u001B[0m in \u001B[0;36m<listcomp>\u001B[0;34m(.0)\u001B[0m\n\u001B[1;32m     25\u001B[0m                 \u001B[0mf\u001B[0m \u001B[0;34m=\u001B[0m \u001B[0mio\u001B[0m\u001B[0;34m.\u001B[0m\u001B[0mStringIO\u001B[0m\u001B[0;34m(\u001B[0m\u001B[0;34m)\u001B[0m\u001B[0;34m\u001B[0m\u001B[0;34m\u001B[0m\u001B[0m\n\u001B[1;32m     26\u001B[0m                 \u001B[0;32mwith\u001B[0m \u001B[0mredirect_stdout\u001B[0m\u001B[0;34m(\u001B[0m\u001B[0mf\u001B[0m\u001B[0;34m)\u001B[0m\u001B[0;34m:\u001B[0m\u001B[0;34m\u001B[0m\u001B[0;34m\u001B[0m\u001B[0m\n\u001B[0;32m---> 27\u001B[0;31m                     \u001B[0mtest\u001B[0m\u001B[0;34m=\u001B[0m\u001B[0mhsic\u001B[0m\u001B[0;34m.\u001B[0m\u001B[0mdHSIC_resample_test\u001B[0m\u001B[0;34m(\u001B[0m\u001B[0;34m[\u001B[0m\u001B[0marr_t\u001B[0m\u001B[0;34m(\u001B[0m\u001B[0mhsic\u001B[0m\u001B[0;34m.\u001B[0m\u001B[0mtime_sampler\u001B[0m\u001B[0;34m(\u001B[0m\u001B[0msim_per_queue\u001B[0m\u001B[0;34m[\u001B[0m\u001B[0mm\u001B[0m\u001B[0;34m]\u001B[0m\u001B[0;34m,\u001B[0m \u001B[0mrng\u001B[0m\u001B[0;34m)\u001B[0m\u001B[0;34m)\u001B[0m \u001B[0;32mfor\u001B[0m \u001B[0mm\u001B[0m \u001B[0;32min\u001B[0m \u001B[0mrange\u001B[0m\u001B[0;34m(\u001B[0m\u001B[0mToOrder\u001B[0m\u001B[0;34m[\u001B[0m\u001B[0mi\u001B[0m\u001B[0;34m]\u001B[0m\u001B[0;34m)\u001B[0m\u001B[0;34m]\u001B[0m\u001B[0;34m,\u001B[0m \u001B[0;36m100\u001B[0m\u001B[0;34m)\u001B[0m\u001B[0;34m\u001B[0m\u001B[0;34m\u001B[0m\u001B[0m\n\u001B[0m\u001B[1;32m     28\u001B[0m                     \u001B[0;32massert\u001B[0m \u001B[0mtest\u001B[0m \u001B[0;34m<=\u001B[0m \u001B[0;36m1\u001B[0m\u001B[0;34m\u001B[0m\u001B[0;34m\u001B[0m\u001B[0m\n\u001B[1;32m     29\u001B[0m                 \u001B[0mls\u001B[0m\u001B[0;34m.\u001B[0m\u001B[0mwrite\u001B[0m\u001B[0;34m(\u001B[0m\u001B[0;34mf\"{r if i == int(np.median(range(len(ToOrder) + 2))) else ''} & {ToOrder[i]} & {thresh} & {round(test,3) if test is not None else None} {sig(test)} \\\\\\ \\n\"\u001B[0m\u001B[0;34m)\u001B[0m\u001B[0;34m\u001B[0m\u001B[0;34m\u001B[0m\u001B[0m\n",
      "\u001B[0;32m~/RedundancyPaper/Analysis/redundancy/hsic.pyx\u001B[0m in \u001B[0;36mredundancy.hsic.time_sampler\u001B[0;34m()\u001B[0m\n\u001B[1;32m     86\u001B[0m         KL) / (m * (m - 3) * (m - 2)), gamma.ppf(1 - alpha, al, scale=bet)\n\u001B[1;32m     87\u001B[0m \u001B[0;34m\u001B[0m\u001B[0m\n\u001B[0;32m---> 88\u001B[0;31m \u001B[0mcpdef\u001B[0m \u001B[0mlist\u001B[0m \u001B[0mtime_sampler\u001B[0m\u001B[0;34m(\u001B[0m\u001B[0mX\u001B[0m\u001B[0;34m,\u001B[0m \u001B[0mtime_samples\u001B[0m\u001B[0;34m)\u001B[0m\u001B[0;34m:\u001B[0m\u001B[0;34m\u001B[0m\u001B[0;34m\u001B[0m\u001B[0m\n\u001B[0m\u001B[1;32m     89\u001B[0m     \"\"\"\n\u001B[1;32m     90\u001B[0m     \u001B[0mFor\u001B[0m \u001B[0ma\u001B[0m \u001B[0mlist\u001B[0m \u001B[0mof\u001B[0m \u001B[0mruns\u001B[0m \u001B[0mof\u001B[0m \u001B[0mthe\u001B[0m \u001B[0msame\u001B[0m \u001B[0mprocess\u001B[0m\u001B[0;34m,\u001B[0m \u001B[0mreturns\u001B[0m \u001B[0marray\u001B[0m \u001B[0mof\u001B[0m \u001B[0meach\u001B[0m \u001B[0mat\u001B[0m \u001B[0mspecified\u001B[0m \u001B[0mtimes\u001B[0m\u001B[0;34m.\u001B[0m\u001B[0;34m\u001B[0m\u001B[0;34m\u001B[0m\u001B[0m\n",
      "\u001B[0;32m~/RedundancyPaper/Analysis/redundancy/hsic.pyx\u001B[0m in \u001B[0;36mredundancy.hsic.time_sampler\u001B[0;34m()\u001B[0m\n\u001B[1;32m    101\u001B[0m             \u001B[0mtime_list\u001B[0m \u001B[0;34m=\u001B[0m \u001B[0mlist\u001B[0m\u001B[0;34m(\u001B[0m\u001B[0mproc\u001B[0m\u001B[0;34m.\u001B[0m\u001B[0mkeys\u001B[0m\u001B[0;34m(\u001B[0m\u001B[0;34m)\u001B[0m\u001B[0;34m)\u001B[0m\u001B[0;34m\u001B[0m\u001B[0;34m\u001B[0m\u001B[0m\n\u001B[1;32m    102\u001B[0m             \u001B[0minsertion_point\u001B[0m \u001B[0;34m=\u001B[0m \u001B[0mnp\u001B[0m\u001B[0;34m.\u001B[0m\u001B[0msearchsorted\u001B[0m\u001B[0;34m(\u001B[0m\u001B[0mtime_list\u001B[0m\u001B[0;34m,\u001B[0m \u001B[0mtime\u001B[0m\u001B[0;34m)\u001B[0m  \u001B[0;31m# a[i-1] < v <= a[i] via binary search algo\u001B[0m\u001B[0;34m\u001B[0m\u001B[0;34m\u001B[0m\u001B[0m\n\u001B[0;32m--> 103\u001B[0;31m             \u001B[0;32mif\u001B[0m \u001B[0mtime_list\u001B[0m\u001B[0;34m[\u001B[0m\u001B[0minsertion_point\u001B[0m\u001B[0;34m]\u001B[0m \u001B[0;34m!=\u001B[0m \u001B[0mtime\u001B[0m \u001B[0;32mand\u001B[0m \u001B[0minsertion_point\u001B[0m \u001B[0;34m>\u001B[0m \u001B[0;36m0\u001B[0m\u001B[0;34m:\u001B[0m\u001B[0;34m\u001B[0m\u001B[0;34m\u001B[0m\u001B[0m\n\u001B[0m\u001B[1;32m    104\u001B[0m                 \u001B[0minsertion_point\u001B[0m \u001B[0;34m=\u001B[0m \u001B[0mtime_list\u001B[0m\u001B[0;34m[\u001B[0m\u001B[0minsertion_point\u001B[0m \u001B[0;34m-\u001B[0m \u001B[0;36m1\u001B[0m\u001B[0;34m]\u001B[0m  \u001B[0;31m# take left\u001B[0m\u001B[0;34m\u001B[0m\u001B[0;34m\u001B[0m\u001B[0m\n\u001B[1;32m    105\u001B[0m             \u001B[0;32melse\u001B[0m\u001B[0;34m:\u001B[0m\u001B[0;34m\u001B[0m\u001B[0;34m\u001B[0m\u001B[0m\n",
      "\u001B[0;31mIndexError\u001B[0m: list index out of range"
     ]
    }
   ],
   "source": [
    "# Outputs in tex tabular style\n",
    "def sig(a):\n",
    "    if a < 0.01:\n",
    "        return \"*\"\n",
    "    elif a < 0.05:\n",
    "        return \"**\"\n",
    "    elif a < 0.1:\n",
    "        return \"***\"\n",
    "    return \"\"\n",
    "\n",
    "with open(f\"output/tabular_{seed}_{rng[:3]}..._{alpha}:{time.time()}.txt\", \"w\") as ls:\n",
    "    ls.write(f\"\\hline \\n\")\n",
    "    ls.write(f\"$\\\\rho$ & $N$ & $r$ & $\\\\hat p(H_{'{a}'})$ \\\\\\ \\n\")\n",
    "    ls.write(f\"\\hline \\n\")\n",
    "    ls.write(f\"\\hline \\n\")\n",
    "    ls.flush()\n",
    "    for r in [0.8, 0.9, 0.99]: # values of rho to test\n",
    "        for thresh in [1,2]:\n",
    "            for i in range(len(ToOrder)):\n",
    "                results = SafeRun(of=\"TSim\", order=[ToOrder[i]], maxtime=maxtime, rho = r, r = thresh, simrep=simrep, ts=False, seed=seed)\n",
    "                results = results[list(results.keys())[0]] #\n",
    "                sim_per_queue = rearrange_for_test(results,i)\n",
    "                del results\n",
    "                gc.collect()\n",
    "                f = io.StringIO()\n",
    "                with redirect_stdout(f):\n",
    "                    test=hsic.dHSIC_resample_test([arr_t(hsic.time_sampler(sim_per_queue[m], rng)) for m in range(ToOrder[i])], 100)\n",
    "                    assert test <= 1\n",
    "                ls.write(f\"{r if i == int(np.median(range(len(ToOrder) + 2))) else ''} & {ToOrder[i]} & {thresh} & {round(test,3) if test is not None else None} {sig(test)} \\\\\\ \\n\")\n",
    "                if i == len(ToOrder)+ 2:\n",
    "                    ls.write(f\"\\hline \\n\")\n",
    "                ls.flush()\n",
    "                del sim_per_queue\n",
    "                gc.collect()\n",
    "    ls.close()\n",
    "exit()\n",
    "\n"
   ],
   "metadata": {
    "collapsed": false,
    "pycharm": {
     "name": "#%%\n"
    }
   }
  },
  {
   "cell_type": "code",
   "execution_count": null,
   "outputs": [],
   "source": [],
   "metadata": {
    "collapsed": false,
    "pycharm": {
     "name": "#%%\n"
    }
   }
  },
  {
   "cell_type": "code",
   "execution_count": null,
   "outputs": [],
   "source": [],
   "metadata": {
    "collapsed": false,
    "pycharm": {
     "name": "#%%\n"
    }
   }
  }
 ],
 "metadata": {
  "kernelspec": {
   "display_name": "Python 3",
   "language": "python",
   "name": "python3"
  },
  "language_info": {
   "codemirror_mode": {
    "name": "ipython",
    "version": 2
   },
   "file_extension": ".py",
   "mimetype": "text/x-python",
   "name": "python",
   "nbconvert_exporter": "python",
   "pygments_lexer": "ipython2",
   "version": "2.7.6"
  }
 },
 "nbformat": 4,
 "nbformat_minor": 0
}