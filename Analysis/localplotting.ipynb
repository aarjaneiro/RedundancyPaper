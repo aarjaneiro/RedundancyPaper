{
 "cells": [
  {
   "cell_type": "markdown",
   "metadata": {},
   "source": [
    "Plotting/Analysis of Data\n",
    "-------------------------\n",
    "Now possible on private machines by utilizing `bigjson` package to budget memory"
   ]
  },
  {
   "cell_type": "code",
   "execution_count": 1,
   "metadata": {},
   "outputs": [
    {
     "name": "stdout",
     "output_type": "stream",
     "text": [
      "[1/1] Cythonizing /mnt/Store/Research/Analysis/datahelpers.pyx\n",
      "running build_ext\n",
      "building 'datahelpers' extension\n",
      "creating /mnt/Store/Research/Analysis/tmpa4nc47qc/mnt\n",
      "creating /mnt/Store/Research/Analysis/tmpa4nc47qc/mnt/Store\n",
      "creating /mnt/Store/Research/Analysis/tmpa4nc47qc/mnt/Store/Research\n",
      "creating /mnt/Store/Research/Analysis/tmpa4nc47qc/mnt/Store/Research/Analysis\n",
      "gcc -pthread -B /home/ajst/anaconda3/compiler_compat -Wl,--sysroot=/ -Wsign-compare -DNDEBUG -g -fwrapv -O3 -Wall -Wstrict-prototypes -fPIC -I/home/ajst/anaconda3/include/python3.7m -c /mnt/Store/Research/Analysis/datahelpers.c -o /mnt/Store/Research/Analysis/tmpa4nc47qc/mnt/Store/Research/Analysis/datahelpers.o\n",
      "gcc -pthread -shared -B /home/ajst/anaconda3/compiler_compat -L/home/ajst/anaconda3/lib -Wl,-rpath=/home/ajst/anaconda3/lib -Wl,--no-as-needed -Wl,--sysroot=/ /mnt/Store/Research/Analysis/tmpa4nc47qc/mnt/Store/Research/Analysis/datahelpers.o -o /mnt/Store/Research/Analysis/datahelpers.cpython-37m-x86_64-linux-gnu.so\n"
     ]
    }
   ],
   "source": [
    "# Installs\n",
    "!cythonize -a -i *.pyx --force # this should be done for each user as different headers might be used for different py versions\n",
    "#!pip install git+http://github.com/aarjaneiro/parallelqueue@cythonized\n",
    "#!pip install bokeh\n",
    "#!pip install bigjson "
   ]
  },
  {
   "cell_type": "code",
   "execution_count": 2,
   "metadata": {},
   "outputs": [],
   "source": [
    "#%load_ext cython\n",
    "from parallelqueue.base_models import *\n",
    "from parallelqueue.monitors import *\n",
    "import matplotlib.pyplot as plt\n",
    "import datahelpers\n",
    "import numpy as np"
   ]
  },
  {
   "cell_type": "code",
   "execution_count": 3,
   "metadata": {},
   "outputs": [
    {
     "name": "stdout",
     "output_type": "stream",
     "text": [
      "CPU times: user 1e+03 ns, sys: 1 µs, total: 2 µs\n",
      "Wall time: 5.01 µs\n"
     ]
    }
   ],
   "source": [
    "%time\n",
    "# ToOrder = [25, 50, 100, 500, 1000]\n",
    "local = datahelpers.FullImport(\"Tsim\", 4)"
   ]
  },
  {
   "cell_type": "code",
   "execution_count": 4,
   "metadata": {},
   "outputs": [
    {
     "name": "stdout",
     "output_type": "stream",
     "text": [
      "CPU times: user 5 µs, sys: 0 ns, total: 5 µs\n",
      "Wall time: 15.3 µs\n"
     ]
    }
   ],
   "source": [
    "%time\n",
    "test = [datahelpers.EcdfOverTime(local, 1000, i) for i in range(30)]"
   ]
  },
  {
   "cell_type": "code",
   "execution_count": null,
   "metadata": {},
   "outputs": [
    {
     "name": "stdout",
     "output_type": "stream",
     "text": [
      "CPU times: user 4 µs, sys: 0 ns, total: 4 µs\n",
      "Wall time: 6.2 µs\n"
     ]
    }
   ],
   "source": [
    "%time\n",
    "for i in range(2):\n",
    "    plt.plot(pd.DataFrame({t: v(1) for t,v in test[i].items()}, index = list(test[i].keys())))"
   ]
  },
  {
   "cell_type": "code",
   "execution_count": null,
   "metadata": {},
   "outputs": [],
   "source": []
  },
  {
   "cell_type": "code",
   "execution_count": null,
   "metadata": {},
   "outputs": [],
   "source": []
  },
  {
   "cell_type": "code",
   "execution_count": null,
   "metadata": {},
   "outputs": [],
   "source": []
  },
  {
   "cell_type": "code",
   "execution_count": null,
   "metadata": {},
   "outputs": [],
   "source": []
  },
  {
   "cell_type": "code",
   "execution_count": null,
   "metadata": {},
   "outputs": [],
   "source": []
  },
  {
   "cell_type": "code",
   "execution_count": null,
   "metadata": {},
   "outputs": [],
   "source": []
  }
 ],
 "metadata": {
  "kernelspec": {
   "display_name": "Python 3",
   "language": "python",
   "name": "python3"
  },
  "language_info": {
   "codemirror_mode": {
    "name": "ipython",
    "version": 3
   },
   "file_extension": ".py",
   "mimetype": "text/x-python",
   "name": "python",
   "nbconvert_exporter": "python",
   "pygments_lexer": "ipython3",
   "version": "3.7.9"
  }
 },
 "nbformat": 4,
 "nbformat_minor": 4
}
