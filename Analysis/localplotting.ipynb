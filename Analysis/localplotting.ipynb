{
 "cells": [
  {
   "cell_type": "markdown",
   "metadata": {},
   "source": [
    "Plotting/Analysis of Data\n",
    "-------------------------\n",
    "Now possible on private machines by utilizing `bigjson` package to budget memory"
   ]
  },
  {
   "cell_type": "code",
   "execution_count": 7,
   "metadata": {},
   "outputs": [
    {
     "name": "stdout",
     "output_type": "stream",
     "text": [
      "[1/1] Cythonizing /home/ajst/PycharmProjects/RedundancyPaper/Analysis/datahelpers.pyx\r\n",
      "running build_ext\r\n",
      "building 'datahelpers' extension\r\n",
      "creating /home/ajst/PycharmProjects/RedundancyPaper/Analysis/tmp0i1msvll/home\r\n",
      "creating /home/ajst/PycharmProjects/RedundancyPaper/Analysis/tmp0i1msvll/home/ajst\r\n",
      "creating /home/ajst/PycharmProjects/RedundancyPaper/Analysis/tmp0i1msvll/home/ajst/PycharmProjects\r\n",
      "creating /home/ajst/PycharmProjects/RedundancyPaper/Analysis/tmp0i1msvll/home/ajst/PycharmProjects/RedundancyPaper\r\n",
      "creating /home/ajst/PycharmProjects/RedundancyPaper/Analysis/tmp0i1msvll/home/ajst/PycharmProjects/RedundancyPaper/Analysis\r\n",
      "gcc -pthread -B /home/ajst/miniconda3/envs/RedundancyPaper/compiler_compat -Wl,--sysroot=/ -Wsign-compare -DNDEBUG -g -fwrapv -O3 -Wall -Wstrict-prototypes -fPIC -I/home/ajst/miniconda3/envs/RedundancyPaper/include/python3.8 -c /home/ajst/PycharmProjects/RedundancyPaper/Analysis/datahelpers.c -o /home/ajst/PycharmProjects/RedundancyPaper/Analysis/tmp0i1msvll/home/ajst/PycharmProjects/RedundancyPaper/Analysis/datahelpers.o\r\n",
      "\u001B[01m\u001B[K/home/ajst/PycharmProjects/RedundancyPaper/Analysis/datahelpers.c:3713:18:\u001B[m\u001B[K \u001B[01;35m\u001B[Kwarning: \u001B[m\u001B[K‘\u001B[01m\u001B[K__pyx_f_11datahelpers_EcdfOverTime\u001B[m\u001B[K’ defined but not used [\u001B[01;35m\u001B[K\u001B]8;;https://gcc.gnu.org/onlinedocs/gcc/Warning-Options.html#index-Wunused-function\u0007-Wunused-function\u001B]8;;\u0007\u001B[m\u001B[K]\r\n",
      " 3713 | static PyObject *\u001B[01;35m\u001B[K__pyx_f_11datahelpers_EcdfOverTime\u001B[m\u001B[K(PyObject *__pyx_v_result, int __pyx_v_N, int __pyx_v_rep) {\r\n",
      "      |                  \u001B[01;35m\u001B[K^~~~~~~~~~~~~~~~~~~~~~~~~~~~~~~~~~\u001B[m\u001B[K\r\n",
      "gcc -pthread -shared -B /home/ajst/miniconda3/envs/RedundancyPaper/compiler_compat -L/home/ajst/miniconda3/envs/RedundancyPaper/lib -Wl,-rpath=/home/ajst/miniconda3/envs/RedundancyPaper/lib -Wl,--no-as-needed -Wl,--sysroot=/ /home/ajst/PycharmProjects/RedundancyPaper/Analysis/tmp0i1msvll/home/ajst/PycharmProjects/RedundancyPaper/Analysis/datahelpers.o -o /home/ajst/PycharmProjects/RedundancyPaper/Analysis/datahelpers.cpython-38-x86_64-linux-gnu.so\r\n"
     ]
    }
   ],
   "source": [
    "# Installs\n",
    "!cythonize -i *.pyx --force # this should be done for each user as different headers might be used for different py versions\n",
    "#!pip install git+http://github.com/aarjaneiro/parallelqueue@cythonized\n",
    "#!pip install bokeh\n",
    "#!pip install bigjson "
   ]
  },
  {
   "cell_type": "code",
   "execution_count": 39,
   "metadata": {},
   "outputs": [
    {
     "name": "stdout",
     "output_type": "stream",
     "text": [
      "The Cython extension is already loaded. To reload it, use:\n",
      "  %reload_ext Cython\n"
     ]
    }
   ],
   "source": [
    "%load_ext Cython\n",
    "from parallelqueue.base_models import *\n",
    "from parallelqueue.monitors import *\n",
    "import matplotlib.pyplot as plt\n",
    "from collections import deque\n",
    "import datahelpers\n",
    "from time import time\n",
    "import numpy as np"
   ]
  },
  {
   "cell_type": "code",
   "execution_count": 9,
   "metadata": {},
   "outputs": [
    {
     "name": "stdout",
     "output_type": "stream",
     "text": [
      "name 'nan' is not defined\n",
      "name 'nan' is not defined\n",
      "name 'nan' is not defined\n",
      "name 'nan' is not defined\n",
      "name 'nan' is not defined\n",
      "name 'nan' is not defined\n",
      "name 'nan' is not defined\n",
      "name 'nan' is not defined\n",
      "name 'nan' is not defined\n",
      "name 'nan' is not defined\n",
      "name 'nan' is not defined\n",
      "name 'nan' is not defined\n",
      "name 'nan' is not defined\n",
      "name 'nan' is not defined\n",
      "name 'nan' is not defined\n",
      "name 'nan' is not defined\n",
      "name 'nan' is not defined\n",
      "name 'nan' is not defined\n",
      "name 'nan' is not defined\n",
      "name 'nan' is not defined\n",
      "name 'nan' is not defined\n",
      "name 'nan' is not defined\n",
      "name 'nan' is not defined\n",
      "name 'nan' is not defined\n",
      "name 'nan' is not defined\n",
      "Seconds: 41.88190579414368\n"
     ]
    }
   ],
   "source": [
    "t1 = time()\n",
    "# ToOrder = [25, 50, 100, 500, 1000]\n",
    "local = datahelpers.FullImport(\"Tsim\", 0)\n",
    "print(f\"Seconds: {time() - t1}\")"
   ]
  },
  {
   "cell_type": "code",
   "execution_count": 37,
   "metadata": {},
   "outputs": [
    {
     "ename": "TypeError",
     "evalue": "descriptor 'popleft' of 'collections.deque' object needs an argument",
     "output_type": "error",
     "traceback": [
      "\u001B[0;31m---------------------------------------------------------------------------\u001B[0m",
      "\u001B[0;31mTypeError\u001B[0m                                 Traceback (most recent call last)",
      "\u001B[0;32m<ipython-input-37-391e2175ae1d>\u001B[0m in \u001B[0;36m<module>\u001B[0;34m\u001B[0m\n\u001B[1;32m      1\u001B[0m \u001B[0mt1\u001B[0m \u001B[0;34m=\u001B[0m \u001B[0mtime\u001B[0m\u001B[0;34m(\u001B[0m\u001B[0;34m)\u001B[0m\u001B[0;34m\u001B[0m\u001B[0;34m\u001B[0m\u001B[0m\n\u001B[0;32m----> 2\u001B[0;31m \u001B[0mtest\u001B[0m \u001B[0;34m=\u001B[0m \u001B[0;34m[\u001B[0m\u001B[0mdatahelpers\u001B[0m\u001B[0;34m.\u001B[0m\u001B[0mEcdfOverTime\u001B[0m\u001B[0;34m(\u001B[0m\u001B[0mlocal\u001B[0m\u001B[0;34m,\u001B[0m \u001B[0;36m1000\u001B[0m\u001B[0;34m,\u001B[0m \u001B[0mi\u001B[0m\u001B[0;34m)\u001B[0m \u001B[0;32mfor\u001B[0m \u001B[0mi\u001B[0m \u001B[0;32min\u001B[0m \u001B[0mrange\u001B[0m\u001B[0;34m(\u001B[0m\u001B[0;36m30\u001B[0m\u001B[0;34m)\u001B[0m\u001B[0;34m]\u001B[0m\u001B[0;34m\u001B[0m\u001B[0;34m\u001B[0m\u001B[0m\n\u001B[0m\u001B[1;32m      3\u001B[0m \u001B[0;31m# test[rep][time]\u001B[0m\u001B[0;34m\u001B[0m\u001B[0;34m\u001B[0m\u001B[0;34m\u001B[0m\u001B[0m\n\u001B[1;32m      4\u001B[0m \u001B[0mprint\u001B[0m\u001B[0;34m(\u001B[0m\u001B[0;34mf\"Seconds: {time() - t1}\"\u001B[0m\u001B[0;34m)\u001B[0m\u001B[0;34m\u001B[0m\u001B[0;34m\u001B[0m\u001B[0m\n\u001B[1;32m      5\u001B[0m \u001B[0;34m\u001B[0m\u001B[0m\n",
      "\u001B[0;32m<ipython-input-37-391e2175ae1d>\u001B[0m in \u001B[0;36m<listcomp>\u001B[0;34m(.0)\u001B[0m\n\u001B[1;32m      1\u001B[0m \u001B[0mt1\u001B[0m \u001B[0;34m=\u001B[0m \u001B[0mtime\u001B[0m\u001B[0;34m(\u001B[0m\u001B[0;34m)\u001B[0m\u001B[0;34m\u001B[0m\u001B[0;34m\u001B[0m\u001B[0m\n\u001B[0;32m----> 2\u001B[0;31m \u001B[0mtest\u001B[0m \u001B[0;34m=\u001B[0m \u001B[0;34m[\u001B[0m\u001B[0mdatahelpers\u001B[0m\u001B[0;34m.\u001B[0m\u001B[0mEcdfOverTime\u001B[0m\u001B[0;34m(\u001B[0m\u001B[0mlocal\u001B[0m\u001B[0;34m,\u001B[0m \u001B[0;36m1000\u001B[0m\u001B[0;34m,\u001B[0m \u001B[0mi\u001B[0m\u001B[0;34m)\u001B[0m \u001B[0;32mfor\u001B[0m \u001B[0mi\u001B[0m \u001B[0;32min\u001B[0m \u001B[0mrange\u001B[0m\u001B[0;34m(\u001B[0m\u001B[0;36m30\u001B[0m\u001B[0;34m)\u001B[0m\u001B[0;34m]\u001B[0m\u001B[0;34m\u001B[0m\u001B[0;34m\u001B[0m\u001B[0m\n\u001B[0m\u001B[1;32m      3\u001B[0m \u001B[0;31m# test[rep][time]\u001B[0m\u001B[0;34m\u001B[0m\u001B[0;34m\u001B[0m\u001B[0;34m\u001B[0m\u001B[0m\n\u001B[1;32m      4\u001B[0m \u001B[0mprint\u001B[0m\u001B[0;34m(\u001B[0m\u001B[0;34mf\"Seconds: {time() - t1}\"\u001B[0m\u001B[0;34m)\u001B[0m\u001B[0;34m\u001B[0m\u001B[0;34m\u001B[0m\u001B[0m\n\u001B[1;32m      5\u001B[0m \u001B[0;34m\u001B[0m\u001B[0m\n",
      "\u001B[0;32m~/PycharmProjects/RedundancyPaper/Analysis/datahelpers.pyx\u001B[0m in \u001B[0;36mdatahelpers.EcdfOverTime\u001B[0;34m()\u001B[0m\n\u001B[1;32m     96\u001B[0m \u001B[0;34m\u001B[0m\u001B[0m\n\u001B[1;32m     97\u001B[0m     \u001B[0mqueue\u001B[0m \u001B[0;34m=\u001B[0m \u001B[0mdeque\u001B[0m\u001B[0;34m(\u001B[0m\u001B[0mgetPerN\u001B[0m\u001B[0;34m(\u001B[0m\u001B[0mresult\u001B[0m\u001B[0;34m,\u001B[0m \u001B[0mrep\u001B[0m\u001B[0;34m)\u001B[0m\u001B[0;34m.\u001B[0m\u001B[0mitems\u001B[0m\u001B[0;34m(\u001B[0m\u001B[0;34m)\u001B[0m\u001B[0;34m)\u001B[0m\u001B[0;34m\u001B[0m\u001B[0;34m\u001B[0m\u001B[0m\n\u001B[0;32m---> 98\u001B[0;31m     \u001B[0;32mdel\u001B[0m \u001B[0mresult\u001B[0m\u001B[0;34m\u001B[0m\u001B[0;34m\u001B[0m\u001B[0m\n\u001B[0m\u001B[1;32m     99\u001B[0m     \u001B[0;32mwhile\u001B[0m \u001B[0mqueue\u001B[0m\u001B[0;34m:\u001B[0m\u001B[0;34m\u001B[0m\u001B[0;34m\u001B[0m\u001B[0m\n\u001B[1;32m    100\u001B[0m         \u001B[0mkey\u001B[0m\u001B[0;34m,\u001B[0m \u001B[0mvalue\u001B[0m \u001B[0;34m=\u001B[0m \u001B[0mqueue\u001B[0m\u001B[0;34m.\u001B[0m\u001B[0mpopleft\u001B[0m\u001B[0;34m(\u001B[0m\u001B[0;34m)\u001B[0m\u001B[0;34m\u001B[0m\u001B[0;34m\u001B[0m\u001B[0m\n",
      "\u001B[0;31mTypeError\u001B[0m: descriptor 'popleft' of 'collections.deque' object needs an argument"
     ]
    }
   ],
   "source": [
    "t1 = time()\n",
    "test = [datahelpers.EcdfOverTime(local, 1000, i) for i in range(30)]\n",
    "# test[rep][time]\n",
    "print(f\"Seconds: {time() - t1}\")"
   ]
  },
  {
   "cell_type": "markdown",
   "source": [
    "Time-averaging across simulations:\n",
    "\n",
    "\n",
    "for $t \\in [0,T] = [0,\\tau_{1}] \\cup [\\tau_{1},\\tau_{2}] \\dots \\cup [\\tau_{S},T]$ being the sim time partitioned\n",
    " by events, for $\\tau^{a}_{i}$ being some entry/exit time of one particular sim run $a$, search the other sims\n",
    " for (e.g., sim $b$) closest $\\tau^{b}_{n}$ such that $\\|\\tau_{i}^{a} - \\tau_{n}^{b}\\| \\leq \\Delta$ for some chosen\n",
    " $\\Delta$. Given parameters are equal across sims, find the $i$th tau first. If $n=i$ then we consider this point when\n",
    " time-averaging, otherwise see ordering w.r.t. $\\tau_{i}^{a}$ to choose another to test. If none exist, pass sim in time\n",
    " average for this event-time."
   ],
   "metadata": {
    "collapsed": false,
    "pycharm": {
     "name": "#%% md\n"
    }
   }
  },
  {
   "cell_type": "code",
   "execution_count": null,
   "outputs": [],
   "source": [
    "# Extract test times (uniques)\n",
    "times = []\n",
    "for m in range(30):\n",
    "    for t, _ in test[m].items():\n",
    "        times.append(t)\n",
    "times = list(set(times))\n",
    "times.sort()\n",
    "times = pd.Series(times) # drop repeats\n",
    "delta = np.mean(abs(times.diff())) * 30 # differenced series avg. deviation\n",
    "delta"
   ],
   "metadata": {
    "collapsed": false,
    "pycharm": {
     "name": "#%%\n"
    }
   }
  },
  {
   "cell_type": "code",
   "execution_count": 40,
   "outputs": [
    {
     "ename": "AttributeError",
     "evalue": "module 'datahelpers' has no attribute 'TimeAverage'",
     "output_type": "error",
     "traceback": [
      "\u001B[0;31m---------------------------------------------------------------------------\u001B[0m",
      "\u001B[0;31mAttributeError\u001B[0m                            Traceback (most recent call last)",
      "\u001B[0;32m<ipython-input-40-9f5e99b7ffaf>\u001B[0m in \u001B[0;36m<module>\u001B[0;34m\u001B[0m\n\u001B[1;32m      1\u001B[0m \u001B[0;31m#ex:\u001B[0m\u001B[0;34m\u001B[0m\u001B[0;34m\u001B[0m\u001B[0;34m\u001B[0m\u001B[0m\n\u001B[0;32m----> 2\u001B[0;31m \u001B[0mdatahelpers\u001B[0m\u001B[0;34m.\u001B[0m\u001B[0mTimeAverage\u001B[0m\u001B[0;34m(\u001B[0m\u001B[0mtest\u001B[0m\u001B[0;34m,\u001B[0m \u001B[0mtimes\u001B[0m\u001B[0;34m,\u001B[0m \u001B[0mdelta\u001B[0m\u001B[0;34m)\u001B[0m\u001B[0;34m\u001B[0m\u001B[0;34m\u001B[0m\u001B[0m\n\u001B[0m\u001B[1;32m      3\u001B[0m \u001B[0;34m\u001B[0m\u001B[0m\n",
      "\u001B[0;31mAttributeError\u001B[0m: module 'datahelpers' has no attribute 'TimeAverage'"
     ]
    }
   ],
   "source": [
    "#ex:\n",
    "datahelpers.TimeAverage(test, times, delta)"
   ],
   "metadata": {
    "collapsed": false,
    "pycharm": {
     "name": "#%%\n"
    }
   }
  },
  {
   "cell_type": "code",
   "execution_count": null,
   "outputs": [],
   "source": [],
   "metadata": {
    "collapsed": false,
    "pycharm": {
     "name": "#%%\n"
    }
   }
  }
 ],
 "metadata": {
  "kernelspec": {
   "display_name": "Python 3",
   "language": "python",
   "name": "python3"
  },
  "language_info": {
   "codemirror_mode": {
    "name": "ipython",
    "version": 3
   },
   "file_extension": ".py",
   "mimetype": "text/x-python",
   "name": "python",
   "nbconvert_exporter": "python",
   "pygments_lexer": "ipython3",
   "version": "3.7.9-final"
  }
 },
 "nbformat": 4,
 "nbformat_minor": 4
}