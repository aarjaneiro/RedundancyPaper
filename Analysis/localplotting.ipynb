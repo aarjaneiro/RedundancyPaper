{
 "cells": [
  {
   "cell_type": "markdown",
   "metadata": {},
   "source": [
    "Plotting/Analysis of Data\n",
    "-------------------------\n",
    "Now possible on private machines by utilizing `bigjson` package to budget memory"
   ]
  },
  {
   "cell_type": "code",
   "execution_count": 5,
   "metadata": {},
   "outputs": [
    {
     "name": "stdout",
     "output_type": "stream",
     "text": [
      "[1/1] Cythonizing /home/ajst/PycharmProjects/RedundancyPaper/Analysis/datahelpers.pyx\r\n",
      "warning: datahelpers.pyx:146:67: local variable 'times' referenced before assignment\r\n",
      "running build_ext\r\n",
      "building 'datahelpers' extension\r\n",
      "creating /home/ajst/PycharmProjects/RedundancyPaper/Analysis/tmp2n0s2jya/home\r\n",
      "creating /home/ajst/PycharmProjects/RedundancyPaper/Analysis/tmp2n0s2jya/home/ajst\r\n",
      "creating /home/ajst/PycharmProjects/RedundancyPaper/Analysis/tmp2n0s2jya/home/ajst/PycharmProjects\r\n",
      "creating /home/ajst/PycharmProjects/RedundancyPaper/Analysis/tmp2n0s2jya/home/ajst/PycharmProjects/RedundancyPaper\r\n",
      "creating /home/ajst/PycharmProjects/RedundancyPaper/Analysis/tmp2n0s2jya/home/ajst/PycharmProjects/RedundancyPaper/Analysis\r\n",
      "gcc -pthread -B /home/ajst/miniconda3/envs/RedundancyPaper/compiler_compat -Wl,--sysroot=/ -Wsign-compare -DNDEBUG -g -fwrapv -O3 -Wall -Wstrict-prototypes -fPIC -I/home/ajst/miniconda3/envs/RedundancyPaper/include/python3.8 -c /home/ajst/PycharmProjects/RedundancyPaper/Analysis/datahelpers.c -o /home/ajst/PycharmProjects/RedundancyPaper/Analysis/tmp2n0s2jya/home/ajst/PycharmProjects/RedundancyPaper/Analysis/datahelpers.o\r\n",
      "gcc -pthread -shared -B /home/ajst/miniconda3/envs/RedundancyPaper/compiler_compat -L/home/ajst/miniconda3/envs/RedundancyPaper/lib -Wl,-rpath=/home/ajst/miniconda3/envs/RedundancyPaper/lib -Wl,--no-as-needed -Wl,--sysroot=/ /home/ajst/PycharmProjects/RedundancyPaper/Analysis/tmp2n0s2jya/home/ajst/PycharmProjects/RedundancyPaper/Analysis/datahelpers.o -o /home/ajst/PycharmProjects/RedundancyPaper/Analysis/datahelpers.cpython-38-x86_64-linux-gnu.so\r\n"
     ]
    }
   ],
   "source": [
    "# Installs\n",
    "!cythonize -i *.pyx --force # this should be done for each user as different headers might be used for different py versions\n",
    "#!pip install git+http://github.com/aarjaneiro/parallelqueue@cythonized\n",
    "#!pip install bokeh\n",
    "#!pip install bigjson "
   ]
  },
  {
   "cell_type": "code",
   "execution_count": 1,
   "metadata": {},
   "outputs": [],
   "source": [
    "%load_ext Cython\n",
    "from parallelqueue.base_models import *\n",
    "from parallelqueue.monitors import *\n",
    "import matplotlib.pyplot as plt\n",
    "import multiprocessing as mp\n",
    "from redundancy.datahelpers import FullImport, EcdfOverTime\n",
    "from time import time\n",
    "import numpy as np"
   ]
  },
  {
   "cell_type": "code",
   "execution_count": 7,
   "metadata": {},
   "outputs": [
    {
     "name": "stdout",
     "output_type": "stream",
     "text": [
      "name 'nan' is not defined\n",
      "name 'nan' is not defined\n",
      "name 'nan' is not defined\n",
      "name 'nan' is not defined\n",
      "name 'nan' is not defined\n",
      "name 'nan' is not defined\n",
      "name 'nan' is not defined\n",
      "name 'nan' is not defined\n",
      "name 'nan' is not defined\n",
      "name 'nan' is not defined\n",
      "name 'nan' is not defined\n",
      "name 'nan' is not defined\n",
      "name 'nan' is not defined\n",
      "name 'nan' is not defined\n",
      "name 'nan' is not defined\n",
      "name 'nan' is not defined\n",
      "name 'nan' is not defined\n",
      "name 'nan' is not defined\n",
      "name 'nan' is not defined\n",
      "name 'nan' is not defined\n",
      "name 'nan' is not defined\n",
      "name 'nan' is not defined\n",
      "name 'nan' is not defined\n",
      "name 'nan' is not defined\n",
      "name 'nan' is not defined\n",
      "Seconds: 43.79840111732483\n"
     ]
    }
   ],
   "source": [
    "t1 = time()\n",
    "# ToOrder = [25, 50, 100, 500, 1000]\n",
    "local = FullImport(\"Tsim\", 0)\n",
    "print(f\"Seconds: {time() - t1}\")"
   ]
  },
  {
   "cell_type": "code",
   "execution_count": 8,
   "metadata": {},
   "outputs": [
    {
     "name": "stdout",
     "output_type": "stream",
     "text": [
      "Seconds: 0.6038620471954346\n"
     ]
    }
   ],
   "source": [
    "t1 = time()\n",
    "test = [EcdfOverTime(local, 1000, i) for i in range(30)]\n",
    "# test[rep][time]\n",
    "print(f\"Seconds: {time() - t1}\")"
   ]
  },
  {
   "cell_type": "code",
   "execution_count": 9,
   "outputs": [
    {
     "data": {
      "text/plain": "0.1002577106695154"
     },
     "execution_count": 9,
     "metadata": {},
     "output_type": "execute_result"
    }
   ],
   "source": [
    "# Extract test times (uniques)\n",
    "times = []\n",
    "for m in range(30):\n",
    "    for t, _ in test[m].items():\n",
    "        times.append(t)\n",
    "times = list(set(times))\n",
    "times.sort()\n",
    "times = pd.Series(times) # drop repeats\n",
    "delta = np.mean(abs(times.diff())) * 30 # differenced series avg. deviation\n",
    "delta"
   ],
   "metadata": {
    "collapsed": false,
    "pycharm": {
     "name": "#%%\n"
    }
   }
  },
  {
   "cell_type": "code",
   "execution_count": 10,
   "outputs": [
    {
     "name": "stdout",
     "output_type": "stream",
     "text": [
      "Seconds: 5.17366623878479\n"
     ]
    }
   ],
   "source": [
    "t1 = time()\n",
    "\n",
    "dfs = []\n",
    "evalAt = range(5)\n",
    "for which in range(30):\n",
    "    def kvp(whichItem, items=list(test[which].values()) ):\n",
    "        try:\n",
    "            enumerate(evalAt)\n",
    "            return np.mean([items[whichItem](enumer) for enumer in evalAt])\n",
    "        except:\n",
    "            return items[whichItem](evalAt)\n",
    "\n",
    "    pool = mp.Pool(mp.cpu_count())\n",
    "    dfVals = pool.map(kvp, range(len(test[which])))\n",
    "    dfs.append(pd.DataFrame(dfVals, index=test[which].keys()))\n",
    "    pool.close()\n",
    "    pool.join()\n",
    "print(f\"Seconds: {time() - t1}\")\n"
   ],
   "metadata": {
    "collapsed": false,
    "pycharm": {
     "name": "#%%\n"
    }
   }
  },
  {
   "cell_type": "code",
   "execution_count": 11,
   "outputs": [
    {
     "data": {
      "text/plain": "<AxesSubplot:>"
     },
     "execution_count": 11,
     "metadata": {},
     "output_type": "execute_result"
    },
    {
     "data": {
      "text/plain": "<Figure size 432x288 with 1 Axes>",
      "image/png": "[encoded data removed]"
     },
     "metadata": {
      "needs_background": "light"
     },
     "output_type": "display_data"
    }
   ],
   "source": [
    "dfs[0].plot()\n",
    "\n",
    "\n"
   ],
   "metadata": {
    "collapsed": false,
    "pycharm": {
     "name": "#%%\n"
    }
   }
  },
  {
   "cell_type": "code",
   "execution_count": null,
   "outputs": [],
   "source": [],
   "metadata": {
    "collapsed": false,
    "pycharm": {
     "name": "#%%\n"
    }
   }
  }
 ],
 "metadata": {
  "kernelspec": {
   "display_name": "Python 3",
   "language": "python",
   "name": "python3"
  },
  "language_info": {
   "codemirror_mode": {
    "name": "ipython",
    "version": 3
   },
   "file_extension": ".py",
   "mimetype": "text/x-python",
   "name": "python",
   "nbconvert_exporter": "python",
   "pygments_lexer": "ipython3",
   "version": "3.7.9-final"
  }
 },
 "nbformat": 4,
 "nbformat_minor": 4
}