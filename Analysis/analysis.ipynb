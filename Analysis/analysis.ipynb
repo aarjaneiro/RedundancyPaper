{
 "cells": [
  {
   "cell_type": "code",
   "execution_count": 1,
   "metadata": {
    "collapsed": true
   },
   "outputs": [],
   "source": [
    "from redundancy.datahelpers import *\n",
    "from redundancy.exchange import *\n",
    "from redundancy.pqTools import *\n",
    "import scipy.spatial as spt"
   ]
  },
  {
   "cell_type": "code",
   "execution_count": 3,
   "outputs": [
    {
     "name": "stdout",
     "output_type": "stream",
     "text": [
      "name 'nan' is not defined\n",
      "name 'nan' is not defined\n",
      "name 'nan' is not defined\n",
      "name 'nan' is not defined\n",
      "name 'nan' is not defined\n",
      "name 'nan' is not defined\n",
      "name 'nan' is not defined\n",
      "name 'nan' is not defined\n",
      "name 'nan' is not defined\n",
      "name 'nan' is not defined\n",
      "name 'nan' is not defined\n",
      "name 'nan' is not defined\n",
      "name 'nan' is not defined\n",
      "name 'nan' is not defined\n",
      "name 'nan' is not defined\n",
      "name 'nan' is not defined\n",
      "name 'nan' is not defined\n",
      "name 'nan' is not defined\n",
      "name 'nan' is not defined\n",
      "name 'nan' is not defined\n",
      "name 'nan' is not defined\n",
      "name 'nan' is not defined\n",
      "name 'nan' is not defined\n",
      "name 'nan' is not defined\n",
      "name 'nan' is not defined\n",
      "name 'nan' is not defined\n",
      "name 'nan' is not defined\n"
     ]
    }
   ],
   "source": [
    "local = FullImport(\"Tsim\", 4)"
   ],
   "metadata": {
    "collapsed": false,
    "pycharm": {
     "name": "#%%\n"
    }
   }
  },
  {
   "cell_type": "code",
   "execution_count": 2,
   "outputs": [],
   "source": [],
   "metadata": {
    "collapsed": false,
    "pycharm": {
     "name": "#%%\n"
    }
   }
  },
  {
   "cell_type": "code",
   "execution_count": null,
   "outputs": [],
   "source": [],
   "metadata": {
    "collapsed": false,
    "pycharm": {
     "name": "#%%\n"
    }
   }
  }
 ],
 "metadata": {
  "kernelspec": {
   "display_name": "Python 3",
   "language": "python",
   "name": "python3"
  },
  "language_info": {
   "codemirror_mode": {
    "name": "ipython",
    "version": 2
   },
   "file_extension": ".py",
   "mimetype": "text/x-python",
   "name": "python",
   "nbconvert_exporter": "python",
   "pygments_lexer": "ipython2",
   "version": "2.7.6"
  }
 },
 "nbformat": 4,
 "nbformat_minor": 0
}