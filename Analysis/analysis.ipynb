{
 "cells": [
  {
   "cell_type": "code",
   "execution_count": 1,
   "metadata": {
    "collapsed": true
   },
   "outputs": [],
   "source": [
    "from redundancy.datahelpers import *\n",
    "import pandas as pd\n",
    "from redundancy.exchange import *\n",
    "from redundancy.pqTools import *\n",
    "import scipy.spatial as spt"
   ]
  },
  {
   "cell_type": "code",
   "execution_count": 23,
   "outputs": [],
   "source": [
    "class ResultManager:\n",
    "    \"\"\"\n",
    "    Juggles data with memory management.\n",
    "    \"\"\"\n",
    "    def __init__(self, paradigm = \"Tsim\"):\n",
    "        self.paradigm = paradigm\n",
    "        self.data = None\n",
    "    def _importer(self, parallelism, rep=-1):\n",
    "        del self.data\n",
    "        choices = [25, 50, 100, 500, 1000]\n",
    "        if parallelism not in choices:\n",
    "            raise ValueError(\"Parallelism must be in [25, 50, 100, 500, 1000]\")\n",
    "        self.which = choices.index(parallelism)\n",
    "        self.data = FullImport(self.paradigm, self.which, rep)\n",
    "    def sims(self, parallelism, sims=-1):\n",
    "        self._importer(parallelism)\n",
    "        #\"Dirty\" means of doing this without rewriting fullimport -- fix TODO\n",
    "        if sims != -1:\n",
    "            sims = [sims] if type(sims)!=list else sims\n",
    "            self.data = {key: val for key, val in self.data.items() if key in sims}\n",
    "\n",
    "    def clear(self):\n",
    "        del self.data\n",
    "\n",
    "    def dataframe(self, which = -1, deldata = False):\n",
    "        self.data: dict\n",
    "        bysim = {}\n",
    "        parse =  list(self.data.keys()) if which == -1 else which\n",
    "        for sim in parse :\n",
    "            series_data = np.array(range(self.which))\n",
    "            times = []\n",
    "            for key, value in self.data[sim].items():\n",
    "                times.append(key)\n",
    "                value: dict # (red : count)\n",
    "                newLine = np.zeros(self.which)\n",
    "                for queues, counts in value.items():\n",
    "                   for queue in list(queues):\n",
    "                        newLine[queue] = counts\n",
    "                series_data=np.append(series_data, newLine)\n",
    "            bysim[sim] = pd.DataFrame(series_data, times)\n",
    "            if deldata:\n",
    "                del self.data\n",
    "        return bysim\n",
    "    @property\n",
    "    def series(self, setter=None):\n",
    "        if setter is None :\n",
    "            return self.data\n",
    "        else:\n",
    "            self.data = setter\n"
   ],
   "metadata": {
    "collapsed": false,
    "pycharm": {
     "name": "#%%\n"
    }
   }
  },
  {
   "cell_type": "code",
   "execution_count": 24,
   "outputs": [
    {
     "name": "stdout",
     "output_type": "stream",
     "text": [
      "name 'nan' is not defined\n",
      "name 'nan' is not defined\n",
      "name 'nan' is not defined\n",
      "name 'nan' is not defined\n",
      "name 'nan' is not defined\n",
      "name 'nan' is not defined\n",
      "name 'nan' is not defined\n",
      "name 'nan' is not defined\n",
      "name 'nan' is not defined\n",
      "name 'nan' is not defined\n",
      "name 'nan' is not defined\n",
      "name 'nan' is not defined\n",
      "name 'nan' is not defined\n",
      "name 'nan' is not defined\n",
      "name 'nan' is not defined\n",
      "name 'nan' is not defined\n",
      "name 'nan' is not defined\n",
      "name 'nan' is not defined\n",
      "name 'nan' is not defined\n",
      "name 'nan' is not defined\n",
      "name 'nan' is not defined\n",
      "name 'nan' is not defined\n",
      "name 'nan' is not defined\n",
      "name 'nan' is not defined\n",
      "name 'nan' is not defined\n",
      "name 'nan' is not defined\n",
      "name 'nan' is not defined\n"
     ]
    }
   ],
   "source": [
    "Tsim =ResultManager()\n",
    "Tsim.sims(1000)"
   ],
   "metadata": {
    "collapsed": false,
    "pycharm": {
     "name": "#%%\n"
    }
   }
  },
  {
   "cell_type": "code",
   "execution_count": 31,
   "outputs": [],
   "source": [
    "sim0=Tsim.data[0]"
   ],
   "metadata": {
    "collapsed": false,
    "pycharm": {
     "name": "#%%\n"
    }
   }
  },
  {
   "cell_type": "code",
   "execution_count": 33,
   "outputs": [
    {
     "ename": "SyntaxError",
     "evalue": "unexpected EOF while parsing (<ipython-input-33-c86d1780780e>, line 3)",
     "output_type": "error",
     "traceback": [
      "\u001B[0;36m  File \u001B[0;32m\"<ipython-input-33-c86d1780780e>\"\u001B[0;36m, line \u001B[0;32m3\u001B[0m\n\u001B[0;31m    \u001B[0m\n\u001B[0m    ^\u001B[0m\n\u001B[0;31mSyntaxError\u001B[0m\u001B[0;31m:\u001B[0m unexpected EOF while parsing\n"
     ]
    }
   ],
   "source": [
    "\n",
    "\n",
    "\n",
    "\n",
    "\n",
    "\n",
    "\n",
    "\n",
    "\n",
    "\n",
    "\n"
   ],
   "metadata": {
    "collapsed": false,
    "pycharm": {
     "name": "#%%\n"
    }
   }
  },
  {
   "cell_type": "code",
   "execution_count": null,
   "outputs": [],
   "source": [],
   "metadata": {
    "collapsed": false,
    "pycharm": {
     "name": "#%%\n"
    }
   }
  }
 ],
 "metadata": {
  "kernelspec": {
   "display_name": "Python 3",
   "language": "python",
   "name": "python3"
  },
  "language_info": {
   "codemirror_mode": {
    "name": "ipython",
    "version": 2
   },
   "file_extension": ".py",
   "mimetype": "text/x-python",
   "name": "python",
   "nbconvert_exporter": "python",
   "pygments_lexer": "ipython2",
   "version": "2.7.6"
  }
 },
 "nbformat": 4,
 "nbformat_minor": 0
}