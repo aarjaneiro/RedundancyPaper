{
 "cells": [
  {
   "cell_type": "code",
   "execution_count": 1,
   "outputs": [],
   "source": [
    "#!python ../setup.py build_ext --inplace --force # sets up package under /redundancy\n",
    "#!pip install hyppo # alternative impnt."
   ],
   "metadata": {
    "collapsed": false,
    "pycharm": {
     "name": "#%%\n"
    }
   }
  },
  {
   "cell_type": "code",
   "execution_count": 2,
   "outputs": [
    {
     "name": "stdout",
     "output_type": "stream",
     "text": [
      "12\n"
     ]
    }
   ],
   "source": [
    "%matplotlib inline\n",
    "\n",
    "import multiprocessing as mp\n",
    "from redundancy import hsic\n",
    "from matplotlib import pyplot as plt\n",
    "from parallelqueue.base_models import *\n",
    "from parallelqueue.monitors import *\n",
    "\n",
    "ncpus = mp.cpu_count() - 12\n",
    "print(ncpus)\n",
    "\n",
    "class Concurrent:\n",
    "    def __init__(self, maxtime=1000, SArgs=1, AArgs=2, d=2, r=2,\n",
    "                 order=range(2, 1000, 2), seed=123):\n",
    "        self.rhoJSim = None\n",
    "        self.r = r\n",
    "        self.order = order\n",
    "        self.d = d\n",
    "        self.AArgs = AArgs\n",
    "        self.SArgs = SArgs\n",
    "        print(f\"rho = {AArgs / SArgs}\")\n",
    "        self.maxtime = maxtime\n",
    "        self._ts = None\n",
    "        self.seed = seed\n",
    "\n",
    "    def rhochange(self, which=2):\n",
    "        self.order = range(2, 30, 1)\n",
    "        labels = {self.rhoRSim: f\"Redundancy({self.d})\", self.rhoJSim: f\"JSQ({self.d})\",\n",
    "                  self.rhoTSim: f\"Thresh({self.d},{self.r})\"}\n",
    "        test = list(labels.keys())[which]\n",
    "        print(f\"Running {test}\")\n",
    "        results = self.ParallelSim(test)\n",
    "        # i is {N, copies}\n",
    "        self.res = pd.DataFrame({i[0]: i[1] for i in results}, index=[i[0] for i in results][::-1])  # have to reverse\n",
    "        self.res.plot(kind=\"bar\", legend=None)\n",
    "        plt.title(\"Average Time in System for Varying rho and N\")\n",
    "        self.__init__()  # Re-init\n",
    "\n",
    "    def WriteEach(self, simrep=1, of=[\"TSim\"], ts=True):\n",
    "        \"\"\"                   v rep within run\n",
    "        res['Thresh(2,2)'][0][0].keys()\n",
    "                           ^run (N-size)\n",
    "        Out[9]: dict_keys(['ReplicaSets', 'TimeQueueSize'])\"\"\"\n",
    "        self._ts = ts\n",
    "        self._sims = simrep\n",
    "        labels = {self.RSim: f\"Redundancy({self.d})\", self.JSim: f\"JSQ({self.d})\",\n",
    "                  self.TSim: f\"Thresh({self.d},{self.r})\"}\n",
    "        self.res = {}\n",
    "        for sim in [self.__getattribute__(i) for i in of]:\n",
    "            print(f\"Running {sim}\")\n",
    "            self.res[labels[sim]] = self.ParallelSim(sim)  # Annoying to unpack ¯\\_(ツ)_/¯\n",
    "\n",
    "    def DoEach(self, of=[\"TSim\"], iters=1):\n",
    "        self._ts = False\n",
    "        labels = {self.RSim: f\"Redundancy({self.d})\", self.JSim: f\"JSQ({self.d})\",\n",
    "                  self.TSim: f\"Thresh({self.d},{self.r})\"}\n",
    "        self.res = {}\n",
    "        for sim in [self.__getattribute__(i) for i in of]:\n",
    "            print(f\"Running {sim}\")\n",
    "            results = self.ParallelSim(sim)\n",
    "            self.res[labels[sim]] = pd.DataFrame(results)\n",
    "        for k, v in self.res.items():\n",
    "            plt.plot(v, label=k)\n",
    "        plt.legend()\n",
    "        if iters == 1:\n",
    "            plt.title(\"Average Time in System as N → ∞\")\n",
    "\n",
    "    def RSim(self, reps):\n",
    "        mons = [TimeQueueSize]\n",
    "        testvalues = []\n",
    "        for N in (self.order):\n",
    "            _sim = RedundancyQueueSystem(maxTime=self.maxtime, parallelism=N, seed=self.seed + 2331 * N + reps,\n",
    "                                         d=self.d,\n",
    "                                         Arrival=random.expovariate,\n",
    "                                         AArgs=self.AArgs, Service=random.expovariate, SArgs=self.SArgs,\n",
    "                                         Monitors=mons)\n",
    "            _sim.RunSim()\n",
    "            testvalues.append(_sim.MonitorOutput)\n",
    "        if not self._ts:\n",
    "            return np.array(testvalues)\n",
    "        else:\n",
    "            return np.mean(testvalues)\n",
    "\n",
    "    def JSim(self, reps):\n",
    "        mons = [TimeQueueSize]\n",
    "        testvalues = []\n",
    "        for N in (self.order):\n",
    "            _sim = JSQd(maxTime=self.maxtime, parallelism=N, seed=self.seed + 2331 * N + reps, d=self.d,\n",
    "                        Arrival=random.expovariate,\n",
    "                        AArgs=self.AArgs, Service=random.expovariate, SArgs=self.SArgs,\n",
    "                        Monitors=mons)\n",
    "            _sim.RunSim()\n",
    "            testvalues.append(_sim.MonitorOutput)\n",
    "        if not self._ts:\n",
    "            return np.array(testvalues)\n",
    "        else:\n",
    "            return np.mean(testvalues)\n",
    "\n",
    "    def TSim(self, reps):\n",
    "        mons = [TimeQueueSize]\n",
    "        testvalues = []\n",
    "        for N in (self.order):\n",
    "            _sim = RedundancyQueueSystem(maxTime=self.maxtime, parallelism=N, seed=self.seed + 2331 * N + reps,\n",
    "                                         d=self.d,\n",
    "                                         r=self.r,\n",
    "                                         Arrival=random.expovariate,\n",
    "                                         AArgs=self.AArgs, Service=random.expovariate, SArgs=self.SArgs,\n",
    "                                         Monitors=mons)\n",
    "            _sim.RunSim()\n",
    "            testvalues.append(_sim.MonitorOutput)\n",
    "        if not self._ts:\n",
    "            return np.array(testvalues)\n",
    "        else:\n",
    "            return np.mean(testvalues)\n",
    "\n",
    "    def rhoTSim(self, N):\n",
    "        testvalues = []\n",
    "        for i in range(2, 30, 1):\n",
    "            _sim = RedundancyQueueSystem(maxTime=self.maxtime, parallelism=i, seed=self.seed + 2331 * N + i, d=self.d,\n",
    "                                         r=self.r,\n",
    "                                         Arrival=random.expovariate,\n",
    "                                         AArgs=self.AArgs + (N / 10), Service=random.expovariate, SArgs=self.SArgs,\n",
    "                                         Monitors=[ReplicaSets])\n",
    "            print(f\"testing rho = {self.AArgs + (N / 10)}@i={i}\")\n",
    "            _sim.RunSim()\n",
    "            interim = pd.DataFrame(_sim.MonitorOutput[\"ReplicaSets\"]).transpose()\n",
    "            testvalues.append((pd.DataFrame(interim[\"exit\"] - interim[\"entry\"]).mean()).values)\n",
    "        return [N / 10, [i[0] for i in testvalues]]\n",
    "\n",
    "    def rhoRSim(self, N):\n",
    "        testvalues = []\n",
    "        for i in range(2, 30, 1):\n",
    "            _sim = RedundancyQueueSystem(maxTime=self.maxtime, parallelism=i, seed=self.seed + 2331 * N + i, d=self.d,\n",
    "                                         Arrival=random.expovariate,\n",
    "                                         AArgs=self.AArgs + (N / 10), Service=random.expovariate, SArgs=self.SArgs,\n",
    "                                         Monitors=[ReplicaSets])\n",
    "            print(f\"testing rho = {self.AArgs + (N / 10)}@i={i}\")\n",
    "            _sim.RunSim()\n",
    "            interim = pd.DataFrame(_sim.MonitorOutput[\"ReplicaSets\"]).transpose()\n",
    "            testvalues.append((pd.DataFrame(interim[\"exit\"] - interim[\"entry\"]).mean()).values)\n",
    "        return [N / 10, [i[0] for i in testvalues]]\n",
    "\n",
    "    def ParallelSim(self, sim):\n",
    "        with mp.Pool(processes=ncpus) as p:\n",
    "            res = p.map(sim, range(self._sims))\n",
    "        return res\n",
    "\n",
    "    def Results(self):\n",
    "        return self.res\n",
    "\n",
    "\n",
    "def SafeRun(maxtime=1000, SArgs=1, AArgs=2, d=2, r=2, order=range(2, 20, 2),\n",
    "            of=\"TSim\", seed=123, simrep=1, ts=True):  # Throws out Concurrent when done\n",
    "    run = Concurrent(maxtime, SArgs, AArgs, d, r, order, seed)\n",
    "    run.WriteEach(of=[of], simrep=simrep, ts=ts)\n",
    "    return run.Results()\n",
    "\n",
    "\n",
    "from redundancy.pqTools import fileMaker\n",
    "\n",
    "# In[ ]:\n"
   ],
   "metadata": {
    "collapsed": false,
    "pycharm": {
     "name": "#%%\n"
    }
   }
  },
  {
   "cell_type": "code",
   "execution_count": 3,
   "outputs": [
    {
     "name": "stdout",
     "output_type": "stream",
     "text": [
      "rho = 50.0\n",
      "Running <bound method Concurrent.TSim of <__main__.Concurrent object at 0x7f894810b5b0>>\n"
     ]
    }
   ],
   "source": [
    "simrep=10\n",
    "#ToOrder = [25, 50, 100, 500, 1000]\n",
    "ToOrder = [100]\n",
    "results = SafeRun(of=\"TSim\", order=ToOrder, maxtime=1000, AArgs=5, SArgs=0.1, simrep=simrep, ts=False, seed=64)\n",
    "results = results[list(results.keys())[0]] #\n",
    "# print(\"Saving\")\n",
    "# fileMaker(results, list(range(len(ToOrder))))\n",
    "\n",
    "\n"
   ],
   "metadata": {
    "collapsed": false,
    "pycharm": {
     "name": "#%%\n"
    }
   }
  },
  {
   "cell_type": "code",
   "execution_count": 4,
   "outputs": [],
   "source": [
    "sim_per_queue = {q: [] for q in range(ToOrder[0])} # [0] should be changed to make s.t. ToOrder is not a singleton\n",
    "for i in range(len(ToOrder)):\n",
    "    for sim in range(simrep):\n",
    "        sim_results=results[sim][0][\"TimeQueueSize\"]\n",
    "        queue_times = {q:{} for q in range(ToOrder[0])}\n",
    "        for time, value in sim_results.items():\n",
    "            for queue in range(ToOrder[0]):\n",
    "                queue_times[queue][time] = value[queue]\n",
    "\n",
    "        for queue in range(ToOrder[0]):\n",
    "            sim_per_queue[queue].append(queue_times[queue])\n",
    "del results\n",
    "\n",
    "\n",
    "# results2 = SafeRun(of=\"JSim\", order=ToOrder, maxtime=1000, AArgs=5, simrep=10, ts=False, seed=1021)\n",
    "# results2 = results2[list(results2.keys())[0]]\n",
    "#\n",
    "#\n",
    "#\n",
    "# results3 = SafeRun(of=\"RSim\", order=ToOrder, maxtime=1000, AArgs=5, simrep=10, ts=False, seed=1111)\n",
    "# results3 = results3[list(results3.keys())[0]]"
   ],
   "metadata": {
    "collapsed": false,
    "pycharm": {
     "name": "#%%\n"
    }
   }
  },
  {
   "cell_type": "code",
   "execution_count": 5,
   "outputs": [
    {
     "data": {
      "text/plain": "(3, 10)"
     },
     "execution_count": 5,
     "metadata": {},
     "output_type": "execute_result"
    }
   ],
   "source": [
    "sample = np.array(hsic.time_sampler(sim_per_queue[0], [1,100,200], 1000))\n",
    "sample.shape # 3 samples, 10 reps\n",
    "\n"
   ],
   "metadata": {
    "collapsed": false,
    "pycharm": {
     "name": "#%%\n"
    }
   }
  },
  {
   "cell_type": "code",
   "execution_count": 11,
   "outputs": [
    {
     "name": "stdout",
     "output_type": "stream",
     "text": [
      "Reject null (H_0: independence): False\n",
      "----------------------------------------\n",
      "HSIC statistic: -5.613631966737653e-07\n",
      "Threshold: 3.7340676210571816e-05\n",
      "\n"
     ]
    }
   ],
   "source": [
    "def arr_t(X):\n",
    "    return np.array(X).transpose()\n",
    "\n",
    "test,thresh=hsic.HSIC_permutations(arr_t(hsic.time_sampler(sim_per_queue[0], [1,100,200], 1000)),\n",
    "                                   arr_t(hsic.time_sampler(sim_per_queue[1], [1,100,200], 1000)),0.01, 30)\n",
    "print(f\"Reject null (H_0: independence): {test > thresh}\\n\"\n",
    "      f\"----------------------------------------\\n\"\n",
    "      f\"HSIC statistic: {test}\\n\"\n",
    "      f\"Threshold: {thresh}\\n\")"
   ],
   "metadata": {
    "collapsed": false,
    "pycharm": {
     "name": "#%%\n"
    }
   }
  },
  {
   "cell_type": "code",
   "execution_count": 12,
   "outputs": [
    {
     "ename": "TypeError",
     "evalue": "dHSIC_hat() takes at least 2 positional arguments (1 given)",
     "output_type": "error",
     "traceback": [
      "\u001B[0;31m---------------------------------------------------------------------------\u001B[0m",
      "\u001B[0;31mTypeError\u001B[0m                                 Traceback (most recent call last)",
      "\u001B[0;32m<ipython-input-12-77efd7d98929>\u001B[0m in \u001B[0;36m<module>\u001B[0;34m\u001B[0m\n\u001B[0;32m----> 1\u001B[0;31m \u001B[0mtest\u001B[0m\u001B[0;34m=\u001B[0m\u001B[0mhsic\u001B[0m\u001B[0;34m.\u001B[0m\u001B[0mdHSIC_hat\u001B[0m\u001B[0;34m(\u001B[0m\u001B[0;34m[\u001B[0m\u001B[0marr_t\u001B[0m\u001B[0;34m(\u001B[0m\u001B[0mhsic\u001B[0m\u001B[0;34m.\u001B[0m\u001B[0mtime_sampler\u001B[0m\u001B[0;34m(\u001B[0m\u001B[0msim_per_queue\u001B[0m\u001B[0;34m[\u001B[0m\u001B[0;36m0\u001B[0m\u001B[0;34m]\u001B[0m\u001B[0;34m,\u001B[0m \u001B[0;34m[\u001B[0m\u001B[0;36m1\u001B[0m\u001B[0;34m,\u001B[0m\u001B[0;36m100\u001B[0m\u001B[0;34m,\u001B[0m\u001B[0;36m200\u001B[0m\u001B[0;34m]\u001B[0m\u001B[0;34m,\u001B[0m \u001B[0;36m1000\u001B[0m\u001B[0;34m)\u001B[0m\u001B[0;34m)\u001B[0m\u001B[0;34m,\u001B[0m\u001B[0marr_t\u001B[0m\u001B[0;34m(\u001B[0m\u001B[0mhsic\u001B[0m\u001B[0;34m.\u001B[0m\u001B[0mtime_sampler\u001B[0m\u001B[0;34m(\u001B[0m\u001B[0msim_per_queue\u001B[0m\u001B[0;34m[\u001B[0m\u001B[0;36m1\u001B[0m\u001B[0;34m]\u001B[0m\u001B[0;34m,\u001B[0m \u001B[0;34m[\u001B[0m\u001B[0;36m1\u001B[0m\u001B[0;34m,\u001B[0m\u001B[0;36m100\u001B[0m\u001B[0;34m,\u001B[0m\u001B[0;36m200\u001B[0m\u001B[0;34m]\u001B[0m\u001B[0;34m,\u001B[0m \u001B[0;36m1000\u001B[0m\u001B[0;34m)\u001B[0m\u001B[0;34m)\u001B[0m\u001B[0;34m]\u001B[0m\u001B[0;34m)\u001B[0m\u001B[0;34m\u001B[0m\u001B[0;34m\u001B[0m\u001B[0m\n\u001B[0m\u001B[1;32m      2\u001B[0m print(f\"Reject null (H_0: independence): {test > thresh}\\n\"\n\u001B[1;32m      3\u001B[0m       \u001B[0;34mf\"----------------------------------------\\n\"\u001B[0m\u001B[0;34m\u001B[0m\u001B[0;34m\u001B[0m\u001B[0m\n\u001B[1;32m      4\u001B[0m       \u001B[0;34mf\"HSIC statistic: {test}\\n\"\u001B[0m\u001B[0;34m\u001B[0m\u001B[0;34m\u001B[0m\u001B[0m\n\u001B[1;32m      5\u001B[0m       f\"Threshold: {thresh}\\n\")\n",
      "\u001B[0;32m~/PycharmProjects/RedundancyPaper/Analysis/Slurm_Cluster/redundancy/hsic.pyx\u001B[0m in \u001B[0;36mredundancy.hsic.dHSIC_hat\u001B[0;34m()\u001B[0m\n\u001B[1;32m    101\u001B[0m     \u001B[0;32mreturn\u001B[0m \u001B[0mret\u001B[0m\u001B[0;34m\u001B[0m\u001B[0;34m\u001B[0m\u001B[0m\n\u001B[1;32m    102\u001B[0m \u001B[0;34m\u001B[0m\u001B[0m\n\u001B[0;32m--> 103\u001B[0;31m \u001B[0mcpdef\u001B[0m \u001B[0mdHSIC_hat\u001B[0m\u001B[0;34m(\u001B[0m\u001B[0mlist\u001B[0m \u001B[0mXs\u001B[0m\u001B[0;34m,\u001B[0m \u001B[0mmax_time\u001B[0m\u001B[0;34m=\u001B[0m\u001B[0;36m1000\u001B[0m\u001B[0;34m)\u001B[0m\u001B[0;34m:\u001B[0m\u001B[0;34m\u001B[0m\u001B[0;34m\u001B[0m\u001B[0m\n\u001B[0m\u001B[1;32m    104\u001B[0m     \"\"\"https://arxiv.org/pdf/1603.00285.pdf -- see algorithm 1. Tests across d dists for independence beyond\n\u001B[1;32m    105\u001B[0m     binary betyween all elements of Xs.\"\"\"\n",
      "\u001B[0;31mTypeError\u001B[0m: dHSIC_hat() takes at least 2 positional arguments (1 given)"
     ]
    }
   ],
   "source": [
    "test=hsic.dHSIC_hat([arr_t(hsic.time_sampler(sim_per_queue[0], [1,100,200], 1000)),arr_t(hsic.time_sampler(sim_per_queue[1], [1,100,200], 1000))])\n",
    "print(f\"Reject null (H_0: independence): {test > thresh}\\n\"\n",
    "      f\"----------------------------------------\\n\"\n",
    "      f\"HSIC statistic: {test}\\n\"\n",
    "      f\"Threshold: {thresh}\\n\")"
   ],
   "metadata": {
    "collapsed": false,
    "pycharm": {
     "name": "#%%\n"
    }
   }
  },
  {
   "cell_type": "code",
   "execution_count": 7,
   "outputs": [],
   "source": [],
   "metadata": {
    "collapsed": false,
    "pycharm": {
     "name": "#%%\n"
    }
   }
  },
  {
   "cell_type": "code",
   "execution_count": 7,
   "outputs": [],
   "source": [],
   "metadata": {
    "collapsed": false,
    "pycharm": {
     "name": "#%%\n"
    }
   }
  }
 ],
 "metadata": {
  "kernelspec": {
   "display_name": "Python 3",
   "language": "python",
   "name": "python3"
  },
  "language_info": {
   "codemirror_mode": {
    "name": "ipython",
    "version": 2
   },
   "file_extension": ".py",
   "mimetype": "text/x-python",
   "name": "python",
   "nbconvert_exporter": "python",
   "pygments_lexer": "ipython2",
   "version": "2.7.6"
  }
 },
 "nbformat": 4,
 "nbformat_minor": 0
}