{
 "cells": [
  {
   "cell_type": "code",
   "execution_count": 1,
   "outputs": [],
   "source": [
    "#!python ../setup.py build_ext --inplace --force # sets up package under /redundancy\n",
    "#!pip install hyppo # alternative impnt."
   ],
   "metadata": {
    "collapsed": false,
    "pycharm": {
     "name": "#%%\n"
    }
   }
  },
  {
   "cell_type": "code",
   "execution_count": 1,
   "outputs": [],
   "source": [],
   "metadata": {
    "collapsed": false,
    "pycharm": {
     "name": "#%%\n"
    }
   }
  },
  {
   "cell_type": "code",
   "execution_count": 2,
   "outputs": [
    {
     "name": "stdout",
     "output_type": "stream",
     "text": [
      "12\n"
     ]
    }
   ],
   "source": [
    "%matplotlib inline\n",
    "\n",
    "import multiprocessing as mp\n",
    "import gc\n",
    "from redundancy import hsic\n",
    "from matplotlib import pyplot as plt\n",
    "from parallelqueue.base_models import *\n",
    "from parallelqueue.monitors import *\n",
    "\n",
    "ncpus = mp.cpu_count() - 12\n",
    "print(ncpus)\n",
    "\n",
    "class Concurrent:\n",
    "    def __init__(self, maxtime=1000, rho = 0.9, d=2, r=2,\n",
    "                 order=range(2, 1000, 2), seed=123):\n",
    "        self.rhoJSim = None\n",
    "        self.r = r\n",
    "        self.order = order\n",
    "        self.d = d\n",
    "        self.rho = rho\n",
    "        self.maxtime = maxtime\n",
    "        self._ts = None\n",
    "        self.seed = seed\n",
    "\n",
    "\n",
    "    def WriteEach(self, simrep=1, of=[\"TSim\"], ts=True):\n",
    "        \"\"\"                   v rep within run\n",
    "        res['Thresh(2,2)'][0][0].keys()\n",
    "                           ^run (N-size)\n",
    "        Out[9]: dict_keys(['ReplicaSets', 'TimeQueueSize'])\"\"\"\n",
    "        self._ts = ts\n",
    "        self._sims = simrep\n",
    "        labels = {self.RSim: f\"Redundancy({self.d})\", self.JSim: f\"JSQ({self.d})\",\n",
    "                  self.TSim: f\"Thresh({self.d},{self.r})\"}\n",
    "        self.res = {}\n",
    "        for sim in [self.__getattribute__(i) for i in of]:\n",
    "            print(f\"Running {sim}\")\n",
    "            self.res[labels[sim]] = self.ParallelSim(sim)  # Annoying to unpack ¯\\_(ツ)_/¯\n",
    "\n",
    "    def DoEach(self, of=[\"TSim\"], iters=1):\n",
    "        self._ts = False\n",
    "        labels = {self.RSim: f\"Redundancy({self.d})\", self.JSim: f\"JSQ({self.d})\",\n",
    "                  self.TSim: f\"Thresh({self.d},{self.r})\"}\n",
    "        self.res = {}\n",
    "        for sim in [self.__getattribute__(i) for i in of]:\n",
    "            print(f\"Running {sim}\")\n",
    "            results = self.ParallelSim(sim)\n",
    "            self.res[labels[sim]] = pd.DataFrame(results)\n",
    "        for k, v in self.res.items():\n",
    "            plt.plot(v, label=k)\n",
    "        plt.legend()\n",
    "        if iters == 1:\n",
    "            plt.title(\"Average Time in System as N → ∞\")\n",
    "\n",
    "    def RSim(self, reps):\n",
    "        mons = [TimeQueueSize]\n",
    "        testvalues = []\n",
    "        for N in (self.order):\n",
    "            _sim = RedundancyQueueSystem(maxTime=self.maxtime, parallelism=N, seed=self.seed + 2331 * N + reps,\n",
    "                                         d=self.d,\n",
    "                                         Arrival=random.expovariate,\n",
    "                                         AArgs=(self.rho*N)/self.d, Service=random.expovariate, SArgs=1,\n",
    "                                         Monitors=mons)\n",
    "            _sim.RunSim()\n",
    "            testvalues.append(_sim.MonitorOutput)\n",
    "        if not self._ts:\n",
    "            return np.array(testvalues)\n",
    "        else:\n",
    "            return np.mean(testvalues)\n",
    "\n",
    "    def JSim(self, reps):\n",
    "        mons = [TimeQueueSize]\n",
    "        testvalues = []\n",
    "        for N in (self.order):\n",
    "            _sim = JSQd(maxTime=self.maxtime, parallelism=N, seed=self.seed + 2331 * N + reps, d=self.d,\n",
    "                        Arrival=random.expovariate,\n",
    "                        AArgs=(self.rho*N)/self.d, Service=random.expovariate, SArgs=1,\n",
    "                        Monitors=mons)\n",
    "            _sim.RunSim()\n",
    "            testvalues.append(_sim.MonitorOutput)\n",
    "        if not self._ts:\n",
    "            return np.array(testvalues)\n",
    "        else:\n",
    "            return np.mean(testvalues)\n",
    "\n",
    "    def TSim(self, reps):\n",
    "        mons = [TimeQueueSize]\n",
    "        testvalues = []\n",
    "        for N in (self.order):\n",
    "            _sim = RedundancyQueueSystem(maxTime=self.maxtime, parallelism=N, seed=self.seed + 2331 * N + reps,\n",
    "                                         d=self.d,\n",
    "                                         r=self.r,\n",
    "                                         Arrival=random.expovariate,\n",
    "                                         AArgs=(self.rho*N)/self.d, Service=random.expovariate, SArgs=1,\n",
    "                                         Monitors=mons)\n",
    "            _sim.RunSim()\n",
    "            testvalues.append(_sim.MonitorOutput)\n",
    "        if not self._ts:\n",
    "            return np.array(testvalues)\n",
    "        else:\n",
    "            return np.mean(testvalues)\n",
    "\n",
    "\n",
    "    def ParallelSim(self, sim):\n",
    "        with mp.Pool(processes=ncpus) as p:\n",
    "            res = p.map(sim, range(self._sims))\n",
    "        return res\n",
    "\n",
    "    def Results(self):\n",
    "        return self.res\n",
    "\n",
    "\n",
    "def SafeRun(maxtime=1000, rho = 0.9, d=2, r=2, order=range(2, 20, 2),\n",
    "            of=\"TSim\", seed=123, simrep=1, ts=True):  # Throws out Concurrent when done\n",
    "    \"\"\"\n",
    "    Parallelized simulations with lambda such that\n",
    "    rho = (d*lambda)/(mu*N) and mu = 1\n",
    "    <=> lambda = (N*rho)/d.\n",
    "    \"\"\"\n",
    "    run = Concurrent(maxtime, rho, d, r, order, seed)\n",
    "    run.WriteEach(of=[of], simrep=simrep, ts=ts)\n",
    "    return run.Results()\n"
   ],
   "metadata": {
    "collapsed": false,
    "pycharm": {
     "name": "#%%\n"
    }
   }
  },
  {
   "cell_type": "code",
   "execution_count": 3,
   "outputs": [],
   "source": [
    "def tabled(to_print = [[0,1],[1,2]]):\n",
    "    for row in to_print:\n",
    "        line=\"\"\n",
    "        for _ in row:\n",
    "            line+=\" {:<15}\"\n",
    "        print(line.format(*row))\n",
    "\n",
    "\n",
    "\n",
    "\n"
   ],
   "metadata": {
    "collapsed": false,
    "pycharm": {
     "name": "#%%\n"
    }
   }
  },
  {
   "cell_type": "code",
   "execution_count": 7,
   "outputs": [
    {
     "name": "stdout",
     "output_type": "stream",
     "text": [
      "Running <bound method Concurrent.TSim of <__main__.Concurrent object at 0x7f0ee045b760>>\n"
     ]
    },
    {
     "data": {
      "text/plain": "0"
     },
     "execution_count": 7,
     "metadata": {},
     "output_type": "execute_result"
    }
   ],
   "source": [
    "simrep=10\n",
    "ToOrder = [50]\n",
    "results = SafeRun(of=\"TSim\", order=ToOrder, maxtime=1000, rho = 0.8, simrep=simrep, ts=False, seed=64)\n",
    "results = results[list(results.keys())[0]] #\n",
    "gc.collect()"
   ],
   "metadata": {
    "collapsed": false,
    "pycharm": {
     "name": "#%%\n"
    }
   }
  },
  {
   "cell_type": "code",
   "execution_count": 8,
   "outputs": [],
   "source": [
    "def rearrange_for_test(which = 0, ToOrder=ToOrder):\n",
    "    per_queue = {q: [] for q in range(ToOrder[which])}\n",
    "    for sim in range(simrep):\n",
    "        sim_results=results[sim][0][\"TimeQueueSize\"]\n",
    "        queue_times = {q:{} for q in range(ToOrder[which])}\n",
    "        for time, value in sim_results.items():\n",
    "            for queue in range(ToOrder[which]):\n",
    "                queue_times[queue][time] = value[queue]\n",
    "\n",
    "        for queue in range(ToOrder[which]):\n",
    "            per_queue[queue].append(queue_times[queue])\n",
    "    return per_queue\n",
    "def arr_t(X):\n",
    "    return np.array(X).transpose()"
   ],
   "metadata": {
    "collapsed": false,
    "pycharm": {
     "name": "#%%\n"
    }
   }
  },
  {
   "cell_type": "code",
   "execution_count": null,
   "outputs": [],
   "source": [
    "for i in range(len(ToOrder)):\n",
    "    sim_per_queue = rearrange_for_test(i)\n",
    "    gc.collect()\n",
    "    test=hsic.dHSIC_resample([arr_t(hsic.time_sampler(sim_per_queue[m], range(100,1000,25), 100)) for m in range(ToOrder[i])], 100)\n",
    "    print(f\"\\nFor N={ToOrder[i]}\\n\"\n",
    "          f\"Reject null (H_0: independence): {test <= 0.05}\\n\"\n",
    "          f\"----------------------------------------\\n\"\n",
    "          f\"HSIC statistic: {round(test,3)}\\n\"\n",
    "          f\"alpha: {0.05}\\n\")\n",
    "del sim_per_queue\n",
    "del test\n",
    "del results"
   ],
   "metadata": {
    "collapsed": false,
    "pycharm": {
     "name": "#%%\n",
     "is_executing": true
    }
   }
  },
  {
   "cell_type": "code",
   "execution_count": null,
   "outputs": [],
   "source": [],
   "metadata": {
    "collapsed": false,
    "pycharm": {
     "name": "#%%\n",
     "is_executing": true
    }
   }
  },
  {
   "cell_type": "code",
   "execution_count": 6,
   "outputs": [],
   "source": [],
   "metadata": {
    "collapsed": false,
    "pycharm": {
     "name": "#%%\n"
    }
   }
  },
  {
   "cell_type": "code",
   "execution_count": 6,
   "outputs": [],
   "source": [],
   "metadata": {
    "collapsed": false,
    "pycharm": {
     "name": "#%%\n"
    }
   }
  }
 ],
 "metadata": {
  "kernelspec": {
   "display_name": "Python 3",
   "language": "python",
   "name": "python3"
  },
  "language_info": {
   "codemirror_mode": {
    "name": "ipython",
    "version": 2
   },
   "file_extension": ".py",
   "mimetype": "text/x-python",
   "name": "python",
   "nbconvert_exporter": "python",
   "pygments_lexer": "ipython2",
   "version": "2.7.6"
  }
 },
 "nbformat": 4,
 "nbformat_minor": 0
}