{
 "cells": [
  {
   "cell_type": "code",
   "execution_count": 22,
   "metadata": {
    "collapsed": true
   },
   "outputs": [
    {
     "name": "stdout",
     "output_type": "stream",
     "text": [
      "The Cython extension is already loaded. To reload it, use:\n",
      "  %reload_ext Cython\n"
     ]
    }
   ],
   "source": [
    "from contextlib import redirect_stdout\n",
    "%load_ext Cython\n",
    "# Imports\n",
    "import io\n",
    "import statsmodels.api as sm\n",
    "import multiprocessing as mp\n",
    "import gc\n",
    "from redundancy import hsic, datahelpers\n",
    "import time\n",
    "from matplotlib import pyplot as plt\n",
    "from parallelqueue.base_models import *\n",
    "from parallelqueue.monitors import *\n",
    "ncpus = mp.cpu_count()\n"
   ]
  },
  {
   "cell_type": "code",
   "execution_count": 23,
   "outputs": [
    {
     "name": "stdout",
     "output_type": "stream",
     "text": [
      "[900.0415863599071, 900.3145103184352, 900.7198433512351, 900.9972037476767, 901.082585332522, 901.2874541593781, 901.7399342620474, 901.7718793324807, 902.1945165444097, 902.4965323948645]\n"
     ]
    }
   ],
   "source": [
    "# User-set params\n",
    "simrep = 20 # set to cores utilized in parallel to limit amount held in memory\n",
    "if simrep>ncpus: print(\"simrep should be <= to be safe\")\n",
    "ToOrder = [5] # N values to test\n",
    "# WARNING: N values too high can result in memory leaks!\n",
    "seed = 1111\n",
    "maxtime = 1000 # max time used across all sims\n",
    "rng = hsic.spanning_grid_uniform(maxtime - 1, 900,0.25) # times to sample\n",
    "print(rng[:10])\n",
    "alpha = 0.1\n"
   ],
   "metadata": {
    "collapsed": false,
    "pycharm": {
     "name": "#%%\n"
    }
   }
  },
  {
   "cell_type": "code",
   "execution_count": 24,
   "outputs": [
    {
     "name": "stdout",
     "output_type": "stream",
     "text": [
      "Using ncpus=20\n"
     ]
    }
   ],
   "source": [
    "print(f\"Using ncpus={simrep}\")\n",
    "class Concurrent:\n",
    "    def __init__(self, maxtime=1000, rho = 0.9, d=2, r=2,\n",
    "                 order=range(2, 1000, 2), seed=123):\n",
    "        self.rhoJSim = None\n",
    "        self.r = r\n",
    "        self.order = order\n",
    "        self.d = d\n",
    "        self.rho = rho\n",
    "        self.maxtime = maxtime\n",
    "        self._ts = None\n",
    "        self.seed = seed\n",
    "\n",
    "    def WriteEach(self, simrep=1, of=[\"TSim\"], ts=True):\n",
    "        \"\"\"                   v rep within run\n",
    "        res['Thresh(2,2)'][0][0].keys()\n",
    "                           ^run (N-size)\n",
    "        Out[9]: dict_keys(['ReplicaSets', 'TimeQueueSize'])\"\"\"\n",
    "        self._ts = ts\n",
    "        self._sims = simrep\n",
    "        labels = {self.RSim: f\"Redundancy({self.d})\", self.JSim: f\"JSQ({self.d})\",\n",
    "                  self.TSim: f\"Thresh({self.d},{self.r})\"}\n",
    "        self.res = {}\n",
    "        for sim in [self.__getattribute__(i) for i in of]:\n",
    "            print(f\"Running {sim}\")\n",
    "            self.res[labels[sim]] = self.ParallelSim(sim)\n",
    "\n",
    "    def DoEach(self, of=[\"TSim\"], iters=1):\n",
    "        self._ts = False\n",
    "        labels = {self.RSim: f\"Redundancy({self.d})\", self.JSim: f\"JSQ({self.d})\",\n",
    "                  self.TSim: f\"Thresh({self.d},{self.r})\"}\n",
    "        self.res = {}\n",
    "        for sim in [self.__getattribute__(i) for i in of]:\n",
    "            print(f\"Running {sim}\")\n",
    "            results = self.ParallelSim(sim)\n",
    "            self.res[labels[sim]] = pd.DataFrame(results)\n",
    "        for k, v in self.res.items():\n",
    "            plt.plot(v, label=k)\n",
    "        plt.legend()\n",
    "        if iters == 1:\n",
    "            plt.title(\"Average Time in System as N → ∞\")\n",
    "\n",
    "    def RSim(self, reps):\n",
    "        mons = [TimeQueueSize]\n",
    "        testvalues = []\n",
    "        for N in (self.order):\n",
    "            _sim = RedundancyQueueSystem(maxTime=self.maxtime, parallelism=N, seed=self.seed + 2331 * N + reps,\n",
    "                                         d=self.d,\n",
    "                                         Arrival=random.expovariate,\n",
    "                                         AArgs=(self.rho*N)/self.d, Service=random.expovariate, SArgs=1,\n",
    "                                         Monitors=mons)\n",
    "            _sim.RunSim()\n",
    "            testvalues.append(_sim.MonitorOutput)\n",
    "        if not self._ts:\n",
    "            return np.array(testvalues)\n",
    "        else:\n",
    "            return np.mean(testvalues)\n",
    "\n",
    "    def JSim(self, reps):\n",
    "        mons = [TimeQueueSize]\n",
    "        testvalues = []\n",
    "        for N in (self.order):\n",
    "            _sim = JSQd(maxTime=self.maxtime, parallelism=N, seed=self.seed + 2331 * N + reps, d=self.d,\n",
    "                        Arrival=random.expovariate,\n",
    "                        AArgs=(self.rho*N)/self.d, Service=random.expovariate, SArgs=1,\n",
    "                        Monitors=mons)\n",
    "            _sim.RunSim()\n",
    "            testvalues.append(_sim.MonitorOutput)\n",
    "        if not self._ts:\n",
    "            return np.array(testvalues)\n",
    "        else:\n",
    "            return np.mean(testvalues)\n",
    "\n",
    "    def TSim(self, reps):\n",
    "        mons = [TimeQueueSize]\n",
    "        testvalues = []\n",
    "        for N in (self.order):\n",
    "            _sim = ParallelQueueSystem(maxTime=self.maxtime, parallelism=N, seed=self.seed + 2331 * N + reps,\n",
    "                                         d=self.d,\n",
    "                                         r=self.r,\n",
    "                                         Arrival=random.expovariate,\n",
    "                                         AArgs=(self.rho*N)/self.d, Service=random.expovariate, SArgs=1,\n",
    "                                         Monitors=mons)\n",
    "            _sim.RunSim()\n",
    "            testvalues.append(_sim.MonitorOutput)\n",
    "        if not self._ts:\n",
    "            return np.array(testvalues)\n",
    "        else:\n",
    "            return np.mean(testvalues)\n",
    "\n",
    "\n",
    "    def ParallelSim(self, sim):\n",
    "        with mp.Pool(processes=ncpus) as p:\n",
    "            res = p.map(sim, range(self._sims))\n",
    "        return res\n",
    "\n",
    "    def Results(self):\n",
    "        return self.res\n",
    "\n",
    "\n",
    "def SafeRun(maxtime=1000, rho = 0.9, d=2, r=2, order=range(2, 20, 2),\n",
    "            of=\"TSim\", seed=123, simrep=1, ts=True):  # Throws out Concurrent when done\n",
    "    \"\"\"\n",
    "    Parallelized simulations with lambda such that\n",
    "    rho = (d*lambda)/(mu*N) and mu = 1\n",
    "    <=> lambda = (N*rho)/d.\n",
    "    \"\"\"\n",
    "    run = Concurrent(maxtime, rho, d, r, order, seed)\n",
    "    run.WriteEach(of=[of], simrep=simrep, ts=ts)\n",
    "    return run.Results()"
   ],
   "metadata": {
    "collapsed": false,
    "pycharm": {
     "name": "#%%\n"
    }
   }
  },
  {
   "cell_type": "code",
   "execution_count": 25,
   "outputs": [
    {
     "data": {
      "text/plain": "49"
     },
     "execution_count": 25,
     "metadata": {},
     "output_type": "execute_result"
    }
   ],
   "source": [
    "\n",
    "def rearrange_for_test(results, simrep=simrep):\n",
    "    \"\"\"Arranges rep{sim{queue}} data -> queue{rep}\"\"\"\n",
    "    return {sim: results[sim][0][\"TimeQueueSize\"] for sim in range(simrep)}\n",
    "\n",
    "#results[i][N][\"TimeQueueSize\"] == results for rep i, size N\n",
    "def ecdf_time(result, N,  simrep=simrep):\n",
    "    \"\"\"Wrapper for cython implementation.\n",
    "    :return List[ecdf(t, rep) for rep in simrep, t in {arrivals, exits}]\"\"\"\n",
    "    return [datahelpers.EcdfOverTime(result, N, rep) for rep in simrep]\n",
    "\n",
    "def arr_t(X):\n",
    "    return np.array(X).transpose()[:,1]\n",
    "gc.collect() # clear memory of clutter from imports"
   ],
   "metadata": {
    "collapsed": false,
    "pycharm": {
     "name": "#%%\n"
    }
   }
  },
  {
   "cell_type": "markdown",
   "source": [],
   "metadata": {
    "collapsed": false,
    "pycharm": {
     "name": "#%% md\n"
    }
   }
  },
  {
   "cell_type": "code",
   "execution_count": 72,
   "outputs": [
    {
     "name": "stdout",
     "output_type": "stream",
     "text": [
      "Running <bound method Concurrent.TSim of <__main__.Concurrent object at 0x7f7ab57e9130>>\n",
      "(396,)\n",
      "(396,)\n",
      "(396,)\n",
      "(396,)\n",
      "(396,)\n",
      "(396,)\n",
      "(396,)\n",
      "(396,)\n",
      "(396,)\n",
      "(396,)\n",
      "(396,)\n",
      "(396,)\n",
      "(396,)\n",
      "(396,)\n",
      "(396,)\n",
      "(396,)\n",
      "(396,)\n",
      "(396,)\n",
      "(396,)\n",
      "(396,)\n",
      "(20, 396)\n",
      "(396,)\n",
      "Running <bound method Concurrent.TSim of <__main__.Concurrent object at 0x7f7ac8a199a0>>\n",
      "(396,)\n",
      "(396,)\n",
      "(396,)\n",
      "(396,)\n",
      "(396,)\n",
      "(396,)\n",
      "(396,)\n",
      "(396,)\n",
      "(396,)\n",
      "(396,)\n",
      "(396,)\n",
      "(396,)\n",
      "(396,)\n",
      "(396,)\n",
      "(396,)\n",
      "(396,)\n",
      "(396,)\n",
      "(396,)\n",
      "(396,)\n",
      "(396,)\n",
      "(20, 396)\n",
      "(396,)\n",
      "Running <bound method Concurrent.TSim of <__main__.Concurrent object at 0x7f7ab589b4c0>>\n",
      "(396,)\n",
      "(396,)\n",
      "(396,)\n",
      "(396,)\n",
      "(396,)\n",
      "(396,)\n",
      "(396,)\n",
      "(396,)\n",
      "(396,)\n",
      "(396,)\n",
      "(396,)\n",
      "(396,)\n",
      "(396,)\n",
      "(396,)\n",
      "(396,)\n",
      "(396,)\n",
      "(396,)\n",
      "(396,)\n",
      "(396,)\n",
      "(396,)\n",
      "(20, 396)\n",
      "(396,)\n",
      "Running <bound method Concurrent.TSim of <__main__.Concurrent object at 0x7f7ab57e9760>>\n",
      "(396,)\n",
      "(396,)\n",
      "(396,)\n",
      "(396,)\n",
      "(396,)\n",
      "(396,)\n",
      "(396,)\n",
      "(396,)\n",
      "(396,)\n",
      "(396,)\n",
      "(396,)\n",
      "(396,)\n",
      "(396,)\n",
      "(396,)\n",
      "(396,)\n",
      "(396,)\n",
      "(396,)\n",
      "(396,)\n",
      "(396,)\n",
      "(396,)\n",
      "(20, 396)\n",
      "(396,)\n",
      "Running <bound method Concurrent.TSim of <__main__.Concurrent object at 0x7f7ac8ed4250>>\n",
      "(396,)\n",
      "(396,)\n",
      "(396,)\n",
      "(396,)\n",
      "(396,)\n",
      "(396,)\n",
      "(396,)\n",
      "(396,)\n",
      "(396,)\n",
      "(396,)\n",
      "(396,)\n",
      "(396,)\n",
      "(396,)\n",
      "(396,)\n",
      "(396,)\n",
      "(396,)\n",
      "(396,)\n",
      "(396,)\n",
      "(396,)\n",
      "(396,)\n",
      "(20, 396)\n",
      "(396,)\n",
      "Running <bound method Concurrent.TSim of <__main__.Concurrent object at 0x7f7ab2ceb9d0>>\n",
      "(396,)\n",
      "(396,)\n",
      "(396,)\n",
      "(396,)\n",
      "(396,)\n",
      "(396,)\n",
      "(396,)\n",
      "(396,)\n",
      "(396,)\n",
      "(396,)\n",
      "(396,)\n",
      "(396,)\n",
      "(396,)\n",
      "(396,)\n",
      "(396,)\n",
      "(396,)\n",
      "(396,)\n",
      "(396,)\n",
      "(396,)\n",
      "(396,)\n",
      "(20, 396)\n",
      "(396,)\n"
     ]
    },
    {
     "data": {
      "text/plain": "<Figure size 432x288 with 1 Axes>",
      "image/png": "[encoded data removed]"
     },
     "metadata": {
      "needs_background": "light"
     },
     "output_type": "display_data"
    },
    {
     "data": {
      "text/plain": "<Figure size 432x288 with 1 Axes>",
      "image/png": "[encoded data removed]"
     },
     "metadata": {
      "needs_background": "light"
     },
     "output_type": "display_data"
    },
    {
     "data": {
      "text/plain": "<Figure size 432x288 with 1 Axes>",
      "image/png": "[encoded data removed]"
     },
     "metadata": {
      "needs_background": "light"
     },
     "output_type": "display_data"
    },
    {
     "data": {
      "text/plain": "<Figure size 432x288 with 1 Axes>",
      "image/png": "[encoded data removed]"
     },
     "metadata": {
      "needs_background": "light"
     },
     "output_type": "display_data"
    },
    {
     "data": {
      "text/plain": "<Figure size 432x288 with 1 Axes>",
      "image/png": "[encoded data removed]"
     },
     "metadata": {
      "needs_background": "light"
     },
     "output_type": "display_data"
    },
    {
     "data": {
      "text/plain": "<Figure size 432x288 with 1 Axes>",
      "image/png": "[encoded data removed]"
     },
     "metadata": {
      "needs_background": "light"
     },
     "output_type": "display_data"
    }
   ],
   "source": [
    "# Outputs in tex tabular style\n",
    "def sig(a):\n",
    "    if a < 0.01:\n",
    "        return \"***\"\n",
    "    elif a < 0.05:\n",
    "        return \"**\"\n",
    "    elif a < 0.1:\n",
    "        return \"*\"\n",
    "    return \"\"\n",
    "fixer = lambda x: np.mean(list(x[0].values())) if x[0] != 0 else 0\n",
    "\n",
    "for r in [0.8, 0.9, 0.99]: #0.8, 0.9, 0.99]: # values of rho to test\n",
    "    for thresh in [1,2]:\n",
    "        for i in range(len(ToOrder)):\n",
    "            results = SafeRun(of=\"TSim\", order=[ToOrder[i]], maxtime=maxtime, rho = r, r = thresh, simrep=simrep, ts=False, seed=seed)\n",
    "            results = results[list(results.keys())[0]] #\n",
    "            sims = rearrange_for_test(results)\n",
    "            del results\n",
    "            gc.collect()\n",
    "            f = io.StringIO()\n",
    "            ret = []\n",
    "            for m in range(simrep):\n",
    "                with redirect_stdout(f):\n",
    "                    sampled = hsic.time_sampler([sims[m]], rng)\n",
    "                sampled = np.array([fixer(i) for i in sampled])\n",
    "                print(sampled.shape)\n",
    "                ret.append(sampled)\n",
    "            ret = np.array(ret)\n",
    "            print(ret.shape)\n",
    "            data_sim=np.mean(ret, axis=0)\n",
    "            print(data_sim.shape)\n",
    "            sm.graphics.tsa.plot_acf(data_sim, alpha=0.05)\n",
    "            plt.savefig(f\"output/{thresh}_{i}_{r}_{time.time()}.png\")\n",
    "            gc.collect()\n",
    "\n",
    "\n"
   ],
   "metadata": {
    "collapsed": false,
    "pycharm": {
     "name": "#%%\n"
    }
   }
  },
  {
   "cell_type": "code",
   "execution_count": 69,
   "outputs": [
    {
     "data": {
      "text/plain": "[[{0: 0, 1: 0, 2: 0, 3: 0, 4: 0}],\n [{0: 0, 1: 0, 2: 0, 3: 0, 4: 0}],\n [{0: 0, 1: 0, 2: 0, 3: 0, 4: 0}],\n [{0: 0, 1: 0, 2: 0, 3: 0, 4: 0}],\n [{0: 0, 1: 0, 2: 0, 3: 0, 4: 0}],\n [{0: 0, 1: 0, 2: 0, 3: 0, 4: 0}],\n [{0: 0, 1: 0, 2: 0, 3: 0, 4: 0}],\n [{0: 0, 1: 0, 2: 0, 3: 0, 4: 0}],\n [{0: 0, 1: 0, 2: 0, 3: 0, 4: 0}],\n [{0: 0, 1: 0, 2: 0, 3: 0, 4: 0}],\n [{0: 0, 1: 0, 2: 0, 3: 0, 4: 0}],\n [{0: 0, 1: 0, 2: 0, 3: 0, 4: 0}],\n [{0: 0, 1: 0, 2: 0, 3: 0, 4: 0}],\n [{0: 0, 1: 0, 2: 0, 3: 0, 4: 0}],\n [{0: 0, 1: 0, 2: 0, 3: 0, 4: 1}],\n [{0: 0, 1: 0, 2: 0, 3: 0, 4: 1}],\n [{0: 0, 1: 0, 2: 0, 3: 0, 4: 0}],\n [{0: 0, 1: 0, 2: 0, 3: 0, 4: 0}],\n [{0: 0, 1: 0, 2: 0, 3: 0, 4: 0}],\n [{0: 0, 1: 0, 2: 0, 3: 0, 4: 0}],\n [{0: 0, 1: 0, 2: 0, 3: 0, 4: 0}],\n [{0: 0, 1: 0, 2: 0, 3: 0, 4: 0}],\n [{0: 0, 1: 0, 2: 1, 3: 1, 4: 0}],\n [{0: 0, 1: 0, 2: 1, 3: 1, 4: 0}],\n [{0: 0, 1: 0, 2: 1, 3: 1, 4: 0}],\n [{0: 0, 1: 0, 2: 1, 3: 1, 4: 0}],\n [{0: 0, 1: 0, 2: 0, 3: 0, 4: 0}],\n [{0: 0, 1: 0, 2: 0, 3: 0, 4: 0}],\n [{0: 0, 1: 0, 2: 0, 3: 0, 4: 0}],\n [{0: 0, 1: 0, 2: 0, 3: 0, 4: 0}],\n [{0: 0, 1: 0, 2: 0, 3: 0, 4: 0}],\n [{0: 0, 1: 0, 2: 0, 3: 0, 4: 0}],\n [{0: 0, 1: 0, 2: 0, 3: 0, 4: 0}],\n [{0: 0, 1: 0, 2: 0, 3: 0, 4: 0}],\n [{0: 0, 1: 0, 2: 0, 3: 0, 4: 0}],\n [{0: 0, 1: 0, 2: 0, 3: 0, 4: 0}],\n [{0: 0, 1: 0, 2: 0, 3: 0, 4: 0}],\n [{0: 0, 1: 0, 2: 0, 3: 0, 4: 0}],\n [{0: 0, 1: 0, 2: 1, 3: 0, 4: 0}],\n [{0: 0, 1: 0, 2: 1, 3: 0, 4: 0}],\n [{0: 0, 1: 0, 2: 0, 3: 0, 4: 0}],\n [{0: 0, 1: 0, 2: 0, 3: 0, 4: 0}],\n [{0: 0, 1: 0, 2: 0, 3: 0, 4: 0}],\n [{0: 0, 1: 0, 2: 0, 3: 0, 4: 0}],\n [{0: 0, 1: 0, 2: 0, 3: 1, 4: 0}],\n [{0: 0, 1: 0, 2: 0, 3: 1, 4: 0}],\n [{0: 0, 1: 0, 2: 1, 3: 1, 4: 0}],\n [{0: 0, 1: 0, 2: 1, 3: 1, 4: 0}],\n [{0: 1, 1: 0, 2: 1, 3: 1, 4: 1}],\n [{0: 1, 1: 0, 2: 1, 3: 1, 4: 1}],\n [{0: 0, 1: 0, 2: 1, 3: 1, 4: 0}],\n [{0: 0, 1: 0, 2: 1, 3: 1, 4: 0}],\n [{0: 1, 1: 0, 2: 0, 3: 0, 4: 0}],\n [{0: 1, 1: 0, 2: 0, 3: 0, 4: 0}],\n [{0: 1, 1: 1, 2: 1, 3: 0, 4: 0}],\n [{0: 1, 1: 1, 2: 1, 3: 0, 4: 0}],\n [{0: 1, 1: 0, 2: 1, 3: 0, 4: 0}],\n [{0: 1, 1: 0, 2: 1, 3: 0, 4: 0}],\n [{0: 0, 1: 1, 2: 0, 3: 0, 4: 0}],\n [{0: 0, 1: 1, 2: 0, 3: 0, 4: 0}],\n [{0: 0, 1: 1, 2: 1, 3: 0, 4: 0}],\n [{0: 0, 1: 1, 2: 1, 3: 0, 4: 0}],\n [{0: 0, 1: 1, 2: 1, 3: 0, 4: 0}],\n [{0: 0, 1: 1, 2: 1, 3: 0, 4: 0}],\n [{0: 0, 1: 0, 2: 1, 3: 0, 4: 0}],\n [{0: 0, 1: 0, 2: 1, 3: 0, 4: 0}],\n [{0: 0, 1: 0, 2: 0, 3: 0, 4: 0}],\n [{0: 0, 1: 0, 2: 0, 3: 0, 4: 0}],\n [{0: 0, 1: 0, 2: 0, 3: 0, 4: 0}],\n [{0: 0, 1: 0, 2: 0, 3: 0, 4: 0}],\n [{0: 0, 1: 0, 2: 0, 3: 0, 4: 0}],\n [{0: 0, 1: 0, 2: 0, 3: 0, 4: 0}],\n [{0: 0, 1: 0, 2: 0, 3: 0, 4: 0}],\n [{0: 0, 1: 0, 2: 0, 3: 0, 4: 0}],\n [{0: 0, 1: 0, 2: 0, 3: 0, 4: 0}],\n [{0: 0, 1: 0, 2: 0, 3: 0, 4: 0}],\n [{0: 1, 1: 0, 2: 0, 3: 0, 4: 0}],\n [{0: 1, 1: 0, 2: 0, 3: 0, 4: 0}],\n [{0: 0, 1: 0, 2: 0, 3: 0, 4: 0}],\n [{0: 0, 1: 0, 2: 0, 3: 0, 4: 0}],\n [{0: 0, 1: 0, 2: 0, 3: 0, 4: 0}],\n [{0: 0, 1: 0, 2: 0, 3: 0, 4: 0}],\n [{0: 0, 1: 0, 2: 0, 3: 0, 4: 0}],\n [{0: 0, 1: 0, 2: 0, 3: 0, 4: 0}],\n [{0: 0, 1: 0, 2: 0, 3: 0, 4: 0}],\n [{0: 0, 1: 0, 2: 0, 3: 0, 4: 0}],\n [{0: 0, 1: 0, 2: 0, 3: 0, 4: 0}],\n [{0: 0, 1: 0, 2: 0, 3: 0, 4: 0}],\n [{0: 0, 1: 0, 2: 0, 3: 0, 4: 0}],\n [{0: 0, 1: 0, 2: 0, 3: 0, 4: 0}],\n [{0: 0, 1: 0, 2: 0, 3: 0, 4: 0}],\n [{0: 0, 1: 0, 2: 0, 3: 0, 4: 0}],\n [{0: 0, 1: 0, 2: 0, 3: 0, 4: 0}],\n [{0: 0, 1: 0, 2: 0, 3: 0, 4: 0}],\n [{0: 0, 1: 0, 2: 0, 3: 0, 4: 0}],\n [{0: 0, 1: 0, 2: 0, 3: 0, 4: 0}],\n [{0: 0, 1: 0, 2: 0, 3: 0, 4: 0}],\n [{0: 0, 1: 0, 2: 0, 3: 0, 4: 0}],\n [{0: 0, 1: 0, 2: 0, 3: 0, 4: 0}],\n [{0: 0, 1: 0, 2: 0, 3: 0, 4: 0}],\n [{0: 1, 1: 0, 2: 0, 3: 0, 4: 0}],\n [{0: 1, 1: 0, 2: 0, 3: 0, 4: 0}],\n [{0: 0, 1: 0, 2: 0, 3: 0, 4: 0}],\n [{0: 0, 1: 0, 2: 0, 3: 0, 4: 0}],\n [{0: 0, 1: 0, 2: 0, 3: 0, 4: 0}],\n [{0: 0, 1: 0, 2: 0, 3: 0, 4: 0}],\n [{0: 0, 1: 0, 2: 0, 3: 0, 4: 0}],\n [{0: 0, 1: 0, 2: 0, 3: 0, 4: 0}],\n [{0: 0, 1: 0, 2: 0, 3: 0, 4: 0}],\n [{0: 0, 1: 0, 2: 0, 3: 0, 4: 0}],\n [{0: 0, 1: 0, 2: 0, 3: 0, 4: 0}],\n [{0: 0, 1: 0, 2: 0, 3: 0, 4: 0}],\n [{0: 1, 1: 1, 2: 0, 3: 1, 4: 0}],\n [{0: 1, 1: 1, 2: 0, 3: 1, 4: 0}],\n [{0: 1, 1: 2, 2: 0, 3: 1, 4: 0}],\n [{0: 1, 1: 2, 2: 0, 3: 1, 4: 0}],\n [{0: 1, 1: 2, 2: 0, 3: 1, 4: 2}],\n [{0: 1, 1: 2, 2: 0, 3: 1, 4: 2}],\n [{0: 0, 1: 2, 2: 0, 3: 0, 4: 0}],\n [{0: 0, 1: 2, 2: 0, 3: 0, 4: 0}],\n [{0: 0, 1: 2, 2: 0, 3: 0, 4: 0}],\n [{0: 0, 1: 2, 2: 0, 3: 0, 4: 0}],\n [{0: 0, 1: 2, 2: 0, 3: 1, 4: 1}],\n [{0: 0, 1: 2, 2: 0, 3: 1, 4: 1}],\n [{0: 0, 1: 2, 2: 1, 3: 1, 4: 0}],\n [{0: 0, 1: 2, 2: 1, 3: 1, 4: 0}],\n [{0: 1, 1: 2, 2: 0, 3: 1, 4: 0}],\n [{0: 1, 1: 2, 2: 0, 3: 1, 4: 0}],\n [{0: 0, 1: 1, 2: 0, 3: 0, 4: 0}],\n [{0: 0, 1: 1, 2: 0, 3: 0, 4: 0}],\n [{0: 0, 1: 0, 2: 0, 3: 0, 4: 0}],\n [{0: 0, 1: 0, 2: 0, 3: 0, 4: 0}],\n [{0: 1, 1: 0, 2: 0, 3: 0, 4: 0}],\n [{0: 1, 1: 0, 2: 0, 3: 0, 4: 0}],\n [{0: 0, 1: 0, 2: 0, 3: 0, 4: 0}],\n [{0: 0, 1: 0, 2: 0, 3: 0, 4: 0}],\n [{0: 0, 1: 0, 2: 0, 3: 0, 4: 0}],\n [{0: 0, 1: 0, 2: 0, 3: 0, 4: 0}],\n [{0: 0, 1: 0, 2: 0, 3: 0, 4: 0}],\n [{0: 0, 1: 0, 2: 0, 3: 0, 4: 0}],\n [{0: 1, 1: 0, 2: 1, 3: 0, 4: 0}],\n [{0: 1, 1: 0, 2: 1, 3: 0, 4: 0}],\n [{0: 0, 1: 0, 2: 1, 3: 1, 4: 0}],\n [{0: 0, 1: 0, 2: 1, 3: 1, 4: 0}],\n [{0: 0, 1: 0, 2: 0, 3: 1, 4: 0}],\n [{0: 0, 1: 0, 2: 0, 3: 1, 4: 0}],\n [{0: 0, 1: 0, 2: 0, 3: 0, 4: 0}],\n [{0: 0, 1: 0, 2: 0, 3: 0, 4: 0}],\n [{0: 1, 1: 0, 2: 0, 3: 0, 4: 1}],\n [{0: 1, 1: 0, 2: 0, 3: 0, 4: 1}],\n [{0: 1, 1: 1, 2: 0, 3: 1, 4: 1}],\n [{0: 1, 1: 1, 2: 0, 3: 1, 4: 1}],\n [{0: 1, 1: 1, 2: 0, 3: 1, 4: 1}],\n [{0: 1, 1: 1, 2: 0, 3: 1, 4: 1}],\n [{0: 1, 1: 1, 2: 0, 3: 1, 4: 0}],\n [{0: 1, 1: 1, 2: 0, 3: 1, 4: 0}],\n [{0: 1, 1: 0, 2: 1, 3: 0, 4: 0}],\n [{0: 1, 1: 0, 2: 1, 3: 0, 4: 0}],\n [{0: 1, 1: 0, 2: 1, 3: 0, 4: 0}],\n [{0: 1, 1: 0, 2: 1, 3: 0, 4: 0}],\n [{0: 0, 1: 0, 2: 1, 3: 0, 4: 0}],\n [{0: 0, 1: 0, 2: 1, 3: 0, 4: 0}],\n [{0: 1, 1: 0, 2: 1, 3: 0, 4: 0}],\n [{0: 1, 1: 0, 2: 1, 3: 0, 4: 0}],\n [{0: 1, 1: 0, 2: 1, 3: 0, 4: 0}],\n [{0: 1, 1: 0, 2: 1, 3: 0, 4: 0}],\n [{0: 1, 1: 1, 2: 1, 3: 1, 4: 0}],\n [{0: 1, 1: 1, 2: 1, 3: 1, 4: 0}],\n [{0: 0, 1: 0, 2: 1, 3: 1, 4: 0}],\n [{0: 0, 1: 0, 2: 1, 3: 1, 4: 0}],\n [{0: 1, 1: 0, 2: 0, 3: 1, 4: 1}],\n [{0: 1, 1: 0, 2: 0, 3: 1, 4: 1}],\n [{0: 1, 1: 0, 2: 0, 3: 1, 4: 0}],\n [{0: 1, 1: 0, 2: 0, 3: 1, 4: 0}],\n [{0: 0, 1: 0, 2: 0, 3: 0, 4: 0}],\n [{0: 0, 1: 0, 2: 0, 3: 0, 4: 0}],\n [{0: 0, 1: 0, 2: 1, 3: 1, 4: 0}],\n [{0: 0, 1: 0, 2: 1, 3: 1, 4: 0}],\n [{0: 0, 1: 0, 2: 1, 3: 0, 4: 0}],\n [{0: 0, 1: 0, 2: 1, 3: 0, 4: 0}],\n [{0: 0, 1: 0, 2: 0, 3: 0, 4: 0}],\n [{0: 0, 1: 0, 2: 0, 3: 0, 4: 0}],\n [{0: 0, 1: 0, 2: 0, 3: 0, 4: 0}],\n [{0: 0, 1: 0, 2: 0, 3: 0, 4: 0}],\n [{0: 0, 1: 0, 2: 0, 3: 0, 4: 1}],\n [{0: 0, 1: 0, 2: 0, 3: 0, 4: 1}],\n [{0: 0, 1: 0, 2: 0, 3: 0, 4: 0}],\n [{0: 0, 1: 0, 2: 0, 3: 0, 4: 0}],\n [{0: 0, 1: 0, 2: 0, 3: 0, 4: 0}],\n [{0: 0, 1: 0, 2: 0, 3: 0, 4: 0}],\n [{0: 0, 1: 0, 2: 0, 3: 0, 4: 0}],\n [{0: 0, 1: 0, 2: 0, 3: 0, 4: 0}],\n [{0: 0, 1: 0, 2: 0, 3: 0, 4: 0}],\n [{0: 0, 1: 0, 2: 0, 3: 0, 4: 0}],\n [{0: 0, 1: 0, 2: 0, 3: 0, 4: 0}],\n [{0: 0, 1: 0, 2: 0, 3: 0, 4: 0}],\n [{0: 0, 1: 0, 2: 0, 3: 0, 4: 0}],\n [{0: 0, 1: 0, 2: 0, 3: 0, 4: 0}],\n [{0: 0, 1: 0, 2: 0, 3: 0, 4: 0}],\n [{0: 0, 1: 0, 2: 0, 3: 0, 4: 0}],\n [{0: 0, 1: 0, 2: 1, 3: 0, 4: 0}],\n [{0: 0, 1: 0, 2: 1, 3: 0, 4: 0}],\n [{0: 0, 1: 0, 2: 0, 3: 0, 4: 0}],\n [{0: 0, 1: 0, 2: 0, 3: 0, 4: 0}],\n [{0: 0, 1: 0, 2: 0, 3: 0, 4: 0}],\n [{0: 0, 1: 0, 2: 0, 3: 0, 4: 0}],\n [{0: 0, 1: 0, 2: 1, 3: 0, 4: 0}],\n [{0: 0, 1: 0, 2: 1, 3: 0, 4: 0}],\n [{0: 0, 1: 0, 2: 0, 3: 0, 4: 0}],\n [{0: 0, 1: 0, 2: 0, 3: 0, 4: 0}],\n [{0: 0, 1: 0, 2: 0, 3: 0, 4: 0}],\n [{0: 0, 1: 0, 2: 0, 3: 0, 4: 0}],\n [{0: 0, 1: 0, 2: 0, 3: 0, 4: 0}],\n [{0: 0, 1: 0, 2: 0, 3: 0, 4: 0}],\n [{0: 0, 1: 0, 2: 0, 3: 0, 4: 0}],\n [{0: 0, 1: 0, 2: 0, 3: 0, 4: 0}],\n [{0: 0, 1: 0, 2: 0, 3: 0, 4: 0}],\n [{0: 0, 1: 0, 2: 0, 3: 0, 4: 0}],\n [{0: 0, 1: 0, 2: 0, 3: 0, 4: 0}],\n [{0: 0, 1: 0, 2: 0, 3: 0, 4: 0}],\n [{0: 0, 1: 0, 2: 0, 3: 0, 4: 0}],\n [{0: 0, 1: 0, 2: 0, 3: 0, 4: 0}],\n [{0: 0, 1: 0, 2: 0, 3: 0, 4: 0}],\n [{0: 0, 1: 0, 2: 0, 3: 0, 4: 0}],\n [{0: 1, 1: 0, 2: 0, 3: 1, 4: 1}],\n [{0: 1, 1: 0, 2: 0, 3: 1, 4: 1}],\n [{0: 1, 1: 0, 2: 0, 3: 1, 4: 0}],\n [{0: 1, 1: 0, 2: 0, 3: 1, 4: 0}],\n [{0: 0, 1: 0, 2: 0, 3: 1, 4: 0}],\n [{0: 0, 1: 0, 2: 0, 3: 1, 4: 0}],\n [{0: 0, 1: 0, 2: 0, 3: 0, 4: 1}],\n [{0: 0, 1: 0, 2: 0, 3: 0, 4: 1}],\n [{0: 0, 1: 0, 2: 0, 3: 0, 4: 0}],\n [{0: 0, 1: 0, 2: 0, 3: 0, 4: 0}],\n [{0: 0, 1: 0, 2: 0, 3: 0, 4: 0}],\n [{0: 0, 1: 0, 2: 0, 3: 0, 4: 0}],\n [{0: 0, 1: 0, 2: 0, 3: 0, 4: 0}],\n [{0: 0, 1: 0, 2: 0, 3: 0, 4: 0}],\n [{0: 0, 1: 0, 2: 0, 3: 0, 4: 0}],\n [{0: 0, 1: 0, 2: 0, 3: 0, 4: 0}],\n [{0: 0, 1: 0, 2: 0, 3: 0, 4: 0}],\n [{0: 0, 1: 0, 2: 0, 3: 0, 4: 0}],\n [{0: 0, 1: 0, 2: 0, 3: 0, 4: 0}],\n [{0: 0, 1: 0, 2: 0, 3: 0, 4: 0}],\n [{0: 0, 1: 0, 2: 0, 3: 0, 4: 0}],\n [{0: 0, 1: 0, 2: 0, 3: 0, 4: 0}],\n [{0: 0, 1: 0, 2: 0, 3: 0, 4: 0}],\n [{0: 0, 1: 0, 2: 0, 3: 0, 4: 0}],\n [{0: 0, 1: 0, 2: 0, 3: 0, 4: 0}],\n [{0: 0, 1: 0, 2: 0, 3: 0, 4: 0}],\n [{0: 0, 1: 0, 2: 0, 3: 0, 4: 0}],\n [{0: 0, 1: 0, 2: 0, 3: 0, 4: 0}],\n [{0: 0, 1: 0, 2: 0, 3: 0, 4: 0}],\n [{0: 0, 1: 0, 2: 0, 3: 0, 4: 0}],\n [{0: 0, 1: 0, 2: 0, 3: 0, 4: 0}],\n [{0: 0, 1: 0, 2: 0, 3: 0, 4: 0}],\n [{0: 0, 1: 0, 2: 0, 3: 0, 4: 0}],\n [{0: 0, 1: 0, 2: 0, 3: 0, 4: 0}],\n [{0: 0, 1: 0, 2: 0, 3: 0, 4: 0}],\n [{0: 0, 1: 0, 2: 0, 3: 0, 4: 0}],\n [{0: 0, 1: 0, 2: 0, 3: 0, 4: 0}],\n [{0: 0, 1: 0, 2: 0, 3: 0, 4: 0}],\n [{0: 2, 1: 0, 2: 0, 3: 0, 4: 0}],\n [{0: 2, 1: 0, 2: 0, 3: 0, 4: 0}],\n [{0: 2, 1: 0, 2: 0, 3: 0, 4: 0}],\n [{0: 2, 1: 0, 2: 0, 3: 0, 4: 0}],\n [{0: 1, 1: 0, 2: 1, 3: 0, 4: 1}],\n [{0: 1, 1: 0, 2: 1, 3: 0, 4: 1}],\n [{0: 1, 1: 0, 2: 2, 3: 0, 4: 1}],\n [{0: 1, 1: 0, 2: 2, 3: 0, 4: 1}],\n [{0: 0, 1: 0, 2: 1, 3: 1, 4: 2}],\n [{0: 0, 1: 0, 2: 1, 3: 1, 4: 2}],\n [{0: 0, 1: 0, 2: 1, 3: 0, 4: 1}],\n [{0: 0, 1: 0, 2: 1, 3: 0, 4: 1}],\n [{0: 1, 1: 1, 2: 1, 3: 0, 4: 1}],\n [{0: 1, 1: 1, 2: 1, 3: 0, 4: 1}],\n [{0: 0, 1: 1, 2: 0, 3: 0, 4: 0}],\n [{0: 0, 1: 1, 2: 0, 3: 0, 4: 0}],\n [{0: 0, 1: 1, 2: 0, 3: 0, 4: 0}],\n [{0: 0, 1: 1, 2: 0, 3: 0, 4: 0}],\n [{0: 0, 1: 0, 2: 0, 3: 0, 4: 0}],\n [{0: 0, 1: 0, 2: 0, 3: 0, 4: 0}],\n [{0: 0, 1: 0, 2: 0, 3: 0, 4: 0}],\n [{0: 0, 1: 0, 2: 0, 3: 0, 4: 0}],\n [{0: 0, 1: 0, 2: 0, 3: 0, 4: 1}],\n [{0: 0, 1: 0, 2: 0, 3: 0, 4: 1}],\n [{0: 0, 1: 0, 2: 0, 3: 0, 4: 0}],\n [{0: 0, 1: 0, 2: 0, 3: 0, 4: 0}],\n [{0: 0, 1: 0, 2: 0, 3: 0, 4: 0}],\n [{0: 0, 1: 0, 2: 0, 3: 0, 4: 0}],\n [{0: 0, 1: 0, 2: 0, 3: 0, 4: 0}],\n [{0: 0, 1: 0, 2: 0, 3: 0, 4: 0}],\n [{0: 0, 1: 0, 2: 0, 3: 0, 4: 1}],\n [{0: 0, 1: 0, 2: 0, 3: 0, 4: 1}],\n [{0: 0, 1: 0, 2: 0, 3: 0, 4: 1}],\n [{0: 0, 1: 0, 2: 0, 3: 0, 4: 1}],\n [{0: 0, 1: 1, 2: 0, 3: 0, 4: 0}],\n [{0: 0, 1: 1, 2: 0, 3: 0, 4: 0}],\n [{0: 1, 1: 0, 2: 1, 3: 0, 4: 0}],\n [{0: 1, 1: 0, 2: 1, 3: 0, 4: 0}],\n [{0: 0, 1: 0, 2: 0, 3: 0, 4: 0}],\n [{0: 0, 1: 0, 2: 0, 3: 0, 4: 0}],\n [{0: 0, 1: 0, 2: 0, 3: 0, 4: 0}],\n [{0: 0, 1: 0, 2: 0, 3: 0, 4: 0}],\n [{0: 0, 1: 0, 2: 0, 3: 0, 4: 0}],\n [{0: 0, 1: 0, 2: 0, 3: 0, 4: 0}],\n [{0: 0, 1: 0, 2: 0, 3: 0, 4: 0}],\n [{0: 0, 1: 0, 2: 0, 3: 0, 4: 0}],\n [{0: 0, 1: 0, 2: 0, 3: 0, 4: 0}],\n [{0: 0, 1: 0, 2: 0, 3: 0, 4: 0}],\n [{0: 0, 1: 0, 2: 0, 3: 1, 4: 0}],\n [{0: 0, 1: 0, 2: 0, 3: 1, 4: 0}],\n [{0: 0, 1: 0, 2: 0, 3: 0, 4: 0}],\n [{0: 0, 1: 0, 2: 0, 3: 0, 4: 0}],\n [{0: 0, 1: 0, 2: 0, 3: 0, 4: 0}],\n [{0: 0, 1: 0, 2: 0, 3: 0, 4: 0}],\n [{0: 1, 1: 0, 2: 0, 3: 0, 4: 1}],\n [{0: 1, 1: 0, 2: 0, 3: 0, 4: 1}],\n [{0: 1, 1: 0, 2: 0, 3: 0, 4: 1}],\n [{0: 1, 1: 0, 2: 0, 3: 0, 4: 1}],\n [{0: 0, 1: 0, 2: 0, 3: 0, 4: 0}],\n [{0: 0, 1: 0, 2: 0, 3: 0, 4: 0}],\n [{0: 0, 1: 0, 2: 0, 3: 0, 4: 0}],\n [{0: 0, 1: 0, 2: 0, 3: 0, 4: 0}],\n [{0: 0, 1: 0, 2: 0, 3: 0, 4: 0}],\n [{0: 0, 1: 0, 2: 0, 3: 0, 4: 0}],\n [{0: 0, 1: 0, 2: 0, 3: 1, 4: 0}],\n [{0: 0, 1: 0, 2: 0, 3: 1, 4: 0}],\n [{0: 0, 1: 0, 2: 0, 3: 1, 4: 0}],\n [{0: 0, 1: 0, 2: 0, 3: 1, 4: 0}],\n [{0: 0, 1: 1, 2: 0, 3: 0, 4: 1}],\n [{0: 0, 1: 1, 2: 0, 3: 0, 4: 1}],\n [{0: 0, 1: 0, 2: 0, 3: 0, 4: 1}],\n [{0: 0, 1: 0, 2: 0, 3: 0, 4: 1}],\n [{0: 0, 1: 0, 2: 0, 3: 0, 4: 1}],\n [{0: 0, 1: 0, 2: 0, 3: 0, 4: 1}],\n [{0: 0, 1: 0, 2: 0, 3: 0, 4: 1}],\n [{0: 0, 1: 0, 2: 0, 3: 0, 4: 1}],\n [{0: 0, 1: 1, 2: 0, 3: 0, 4: 0}],\n [{0: 0, 1: 1, 2: 0, 3: 0, 4: 0}],\n [{0: 0, 1: 0, 2: 0, 3: 0, 4: 0}],\n [{0: 0, 1: 0, 2: 0, 3: 0, 4: 0}],\n [{0: 0, 1: 0, 2: 0, 3: 0, 4: 1}],\n [{0: 0, 1: 0, 2: 0, 3: 0, 4: 1}],\n [{0: 0, 1: 0, 2: 0, 3: 0, 4: 1}],\n [{0: 0, 1: 0, 2: 0, 3: 0, 4: 1}],\n [{0: 0, 1: 0, 2: 0, 3: 0, 4: 1}],\n [{0: 0, 1: 0, 2: 0, 3: 0, 4: 1}],\n [{0: 0, 1: 0, 2: 0, 3: 0, 4: 0}],\n [{0: 0, 1: 0, 2: 0, 3: 0, 4: 0}],\n [{0: 1, 1: 0, 2: 0, 3: 0, 4: 1}],\n [{0: 1, 1: 0, 2: 0, 3: 0, 4: 1}],\n [{0: 1, 1: 1, 2: 0, 3: 0, 4: 0}],\n [{0: 1, 1: 1, 2: 0, 3: 0, 4: 0}],\n [{0: 0, 1: 0, 2: 0, 3: 0, 4: 0}],\n [{0: 0, 1: 0, 2: 0, 3: 0, 4: 0}],\n [{0: 0, 1: 0, 2: 0, 3: 0, 4: 0}],\n [{0: 0, 1: 0, 2: 0, 3: 0, 4: 0}],\n [{0: 0, 1: 0, 2: 1, 3: 0, 4: 1}],\n [{0: 0, 1: 0, 2: 1, 3: 0, 4: 1}],\n [{0: 1, 1: 0, 2: 0, 3: 0, 4: 0}],\n [{0: 1, 1: 0, 2: 0, 3: 0, 4: 0}],\n [{0: 0, 1: 0, 2: 0, 3: 0, 4: 0}],\n [{0: 0, 1: 0, 2: 0, 3: 0, 4: 0}],\n [{0: 0, 1: 0, 2: 0, 3: 0, 4: 0}],\n [{0: 0, 1: 0, 2: 0, 3: 0, 4: 0}],\n [{0: 0, 1: 0, 2: 0, 3: 0, 4: 1}],\n [{0: 0, 1: 0, 2: 0, 3: 0, 4: 1}],\n [{0: 1, 1: 0, 2: 0, 3: 1, 4: 2}],\n [{0: 1, 1: 0, 2: 0, 3: 1, 4: 2}],\n [{0: 0, 1: 0, 2: 0, 3: 0, 4: 1}],\n [{0: 0, 1: 0, 2: 0, 3: 0, 4: 1}],\n [{0: 0, 1: 0, 2: 0, 3: 0, 4: 0}],\n [{0: 0, 1: 0, 2: 0, 3: 0, 4: 0}],\n [{0: 0, 1: 0, 2: 0, 3: 0, 4: 0}],\n [{0: 0, 1: 0, 2: 0, 3: 0, 4: 0}],\n [{0: 0, 1: 0, 2: 0, 3: 0, 4: 0}],\n [{0: 0, 1: 0, 2: 0, 3: 0, 4: 0}],\n [{0: 1, 1: 0, 2: 1, 3: 0, 4: 0}],\n [{0: 1, 1: 0, 2: 1, 3: 0, 4: 0}],\n [{0: 1, 1: 0, 2: 1, 3: 0, 4: 0}],\n [{0: 1, 1: 0, 2: 1, 3: 0, 4: 0}],\n [{0: 1, 1: 0, 2: 1, 3: 0, 4: 1}],\n [{0: 1, 1: 0, 2: 1, 3: 0, 4: 1}],\n [{0: 1, 1: 0, 2: 0, 3: 0, 4: 1}],\n [{0: 1, 1: 0, 2: 0, 3: 0, 4: 1}],\n [{0: 0, 1: 1, 2: 0, 3: 0, 4: 2}],\n [{0: 0, 1: 1, 2: 0, 3: 0, 4: 2}],\n [{0: 1, 1: 1, 2: 0, 3: 0, 4: 2}],\n [{0: 1, 1: 1, 2: 0, 3: 0, 4: 2}],\n [{0: 0, 1: 0, 2: 0, 3: 0, 4: 0}],\n [{0: 0, 1: 0, 2: 0, 3: 0, 4: 0}],\n [{0: 0, 1: 0, 2: 0, 3: 0, 4: 0}],\n [{0: 0, 1: 0, 2: 0, 3: 0, 4: 0}],\n [0],\n [0]]"
     },
     "execution_count": 69,
     "metadata": {},
     "output_type": "execute_result"
    }
   ],
   "source": [],
   "metadata": {
    "collapsed": false,
    "pycharm": {
     "name": "#%%\n"
    }
   }
  },
  {
   "cell_type": "code",
   "execution_count": null,
   "outputs": [],
   "source": [],
   "metadata": {
    "collapsed": false,
    "pycharm": {
     "name": "#%%\n"
    }
   }
  }
 ],
 "metadata": {
  "kernelspec": {
   "name": "python3",
   "language": "python",
   "display_name": "Python 3"
  },
  "language_info": {
   "codemirror_mode": {
    "name": "ipython",
    "version": 2
   },
   "file_extension": ".py",
   "mimetype": "text/x-python",
   "name": "python",
   "nbconvert_exporter": "python",
   "pygments_lexer": "ipython2",
   "version": "2.7.6"
  }
 },
 "nbformat": 4,
 "nbformat_minor": 0
}