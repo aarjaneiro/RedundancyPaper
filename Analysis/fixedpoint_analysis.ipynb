{
 "cells": [
  {
   "cell_type": "code",
   "execution_count": 33,
   "metadata": {
    "collapsed": true
   },
   "outputs": [
    {
     "name": "stdout",
     "output_type": "stream",
     "text": [
      "The Cython extension is already loaded. To reload it, use:\n",
      "  %reload_ext Cython\n"
     ]
    }
   ],
   "source": [
    "%load_ext Cython\n",
    "# Imports\n",
    "import io\n",
    "import statsmodels.api as sm\n",
    "import multiprocessing as mp\n",
    "import gc\n",
    "from redundancy import hsic, datahelpers\n",
    "import time\n",
    "from matplotlib import pyplot as plt\n",
    "from parallelqueue.base_models import *\n",
    "from parallelqueue.monitors import *\n",
    "ncpus = mp.cpu_count()\n"
   ]
  },
  {
   "cell_type": "code",
   "execution_count": 34,
   "outputs": [
    {
     "name": "stdout",
     "output_type": "stream",
     "text": [
      "[900.098614824188, 900.4204517457015, 900.5648714795738, 900.7732415017847, 901.0402732569179, 901.4214742041418, 901.5708029749592, 901.9264375620329, 902.230200525146, 902.4666707107712]\n"
     ]
    }
   ],
   "source": [
    "# User-set params\n",
    "simrep = 20 # set to cores utilized in parallel to limit amount held in memory\n",
    "if simrep>ncpus: print(\"simrep should be <= to be safe\")\n",
    "ToOrder = [5] # N values to test\n",
    "# WARNING: N values too high can r/esult in memory leaks!\n",
    "seed = 1111\n",
    "maxtime = 1000 # max time used across all sims\n",
    "rng = hsic.spanning_grid_uniform(maxtime - 1, 900,0.25) # times to sample\n",
    "print(rng[:10])\n",
    "alpha = 0.1\n"
   ],
   "metadata": {
    "collapsed": false,
    "pycharm": {
     "name": "#%%\n"
    }
   }
  },
  {
   "cell_type": "code",
   "execution_count": 35,
   "outputs": [
    {
     "name": "stdout",
     "output_type": "stream",
     "text": [
      "Using ncpus=20\n"
     ]
    }
   ],
   "source": [
    "print(f\"Using ncpus={simrep}\")\n",
    "class Concurrent:\n",
    "    def __init__(self, maxtime=1000, rho = 0.9, d=2, r=2,\n",
    "                 order=range(2, 1000, 2), seed=123):\n",
    "        self.rhoJSim = None\n",
    "        self.r = r\n",
    "        self.order = order\n",
    "        self.d = d\n",
    "        self.rho = rho\n",
    "        self.maxtime = maxtime\n",
    "        self._ts = None\n",
    "        self.seed = seed\n",
    "\n",
    "    def WriteEach(self, simrep=1, of=[\"TSim\"], ts=True):\n",
    "        \"\"\"                   v rep within run\n",
    "        res['Thresh(2,2)'][0][0].keys()\n",
    "                           ^run (N-size)\n",
    "        Out[9]: dict_keys(['ReplicaSets', 'TimeQueueSize'])\"\"\"\n",
    "        self._ts = ts\n",
    "        self._sims = simrep\n",
    "        labels = {self.RSim: f\"Redundancy({self.d})\", self.JSim: f\"JSQ({self.d})\",\n",
    "                  self.TSim: f\"Thresh({self.d},{self.r})\"}\n",
    "        self.res = {}\n",
    "        for sim in [self.__getattribute__(i) for i in of]:\n",
    "            print(f\"Running {sim}\")\n",
    "            self.res[labels[sim]] = self.ParallelSim(sim)\n",
    "\n",
    "    def DoEach(self, of=[\"TSim\"], iters=1):\n",
    "        self._ts = False\n",
    "        labels = {self.RSim: f\"Redundancy({self.d})\", self.JSim: f\"JSQ({self.d})\",\n",
    "                  self.TSim: f\"Thresh({self.d},{self.r})\"}\n",
    "        self.res = {}\n",
    "        for sim in [self.__getattribute__(i) for i in of]:\n",
    "            print(f\"Running {sim}\")\n",
    "            results = self.ParallelSim(sim)\n",
    "            self.res[labels[sim]] = pd.DataFrame(results)\n",
    "        for k, v in self.res.items():\n",
    "            plt.plot(v, label=k)\n",
    "        plt.legend()\n",
    "        if iters == 1:\n",
    "            plt.title(\"Average Time in System as N → ∞\")\n",
    "\n",
    "    def RSim(self, reps):\n",
    "        mons = [TimeQueueSize]\n",
    "        testvalues = []\n",
    "        for N in (self.order):\n",
    "            _sim = RedundancyQueueSystem(maxTime=self.maxtime, parallelism=N, seed=self.seed + 2331 * N + reps,\n",
    "                                         d=self.d,\n",
    "                                         Arrival=random.expovariate,\n",
    "                                         AArgs=(self.rho*N)/self.d, Service=random.expovariate, SArgs=1,\n",
    "                                         Monitors=mons)\n",
    "            _sim.RunSim()\n",
    "            testvalues.append(_sim.MonitorOutput)\n",
    "        if not self._ts:\n",
    "            return np.array(testvalues)\n",
    "        else:\n",
    "            return np.mean(testvalues)\n",
    "\n",
    "    def JSim(self, reps):\n",
    "        mons = [TimeQueueSize]\n",
    "        testvalues = []\n",
    "        for N in (self.order):\n",
    "            _sim = JSQd(maxTime=self.maxtime, parallelism=N, seed=self.seed + 2331 * N + reps, d=self.d,\n",
    "                        Arrival=random.expovariate,\n",
    "                        AArgs=(self.rho*N)/self.d, Service=random.expovariate, SArgs=1,\n",
    "                        Monitors=mons)\n",
    "            _sim.RunSim()\n",
    "            testvalues.append(_sim.MonitorOutput)\n",
    "        if not self._ts:\n",
    "            return np.array(testvalues)\n",
    "        else:\n",
    "            return np.mean(testvalues)\n",
    "\n",
    "    def TSim(self, reps):\n",
    "        mons = [TimeQueueSize]\n",
    "        testvalues = []\n",
    "        for N in (self.order):\n",
    "            _sim = ParallelQueueSystem(maxTime=self.maxtime, parallelism=N, seed=self.seed + 2331 * N + reps,\n",
    "                                         d=self.d,\n",
    "                                         r=self.r,\n",
    "                                         Arrival=random.expovariate,\n",
    "                                         AArgs=(self.rho*N)/self.d, Service=random.expovariate, SArgs=1,\n",
    "                                         Monitors=mons)\n",
    "            _sim.RunSim()\n",
    "            testvalues.append(_sim.MonitorOutput)\n",
    "        if not self._ts:\n",
    "            return np.array(testvalues)\n",
    "        else:\n",
    "            return np.mean(testvalues)\n",
    "\n",
    "\n",
    "    def ParallelSim(self, sim):\n",
    "        with mp.Pool(processes=ncpus) as p:\n",
    "            res = p.map(sim, range(self._sims))\n",
    "        return res\n",
    "\n",
    "    def Results(self):\n",
    "        return self.res\n",
    "\n",
    "\n",
    "def SafeRun(maxtime=1000, rho = 0.9, d=2, r=2, order=range(2, 20, 2),\n",
    "            of=\"TSim\", seed=123, simrep=1, ts=True):  # Throws out Concurrent when done\n",
    "    \"\"\"\n",
    "    Parallelized simulations with lambda such that\n",
    "    rho = (d*lambda)/(mu*N) and mu = 1\n",
    "    <=> lambda = (N*rho)/d.\n",
    "    \"\"\"\n",
    "    run = Concurrent(maxtime, rho, d, r, order, seed)\n",
    "    run.WriteEach(of=[of], simrep=simrep, ts=ts)\n",
    "    return run.Results()"
   ],
   "metadata": {
    "collapsed": false,
    "pycharm": {
     "name": "#%%\n"
    }
   }
  },
  {
   "cell_type": "code",
   "execution_count": 36,
   "outputs": [
    {
     "data": {
      "text/plain": "19190"
     },
     "execution_count": 36,
     "metadata": {},
     "output_type": "execute_result"
    }
   ],
   "source": [
    "\n",
    "def rearrange_for_test(results, which = 0, ToOrder=ToOrder):\n",
    "    \"\"\"Arranges rep{sim{queue}} data -> queue{rep}\"\"\"\n",
    "    per_queue = {q: [] for q in range(ToOrder[which])}\n",
    "    for sim in range(simrep):\n",
    "        sim_results=results[sim][0][\"TimeQueueSize\"]\n",
    "        queue_times = {q:{} for q in range(ToOrder[which])}\n",
    "        for time, value in sim_results.items():\n",
    "            for queue in range(ToOrder[which]):\n",
    "                queue_times[queue][time] = value[queue]\n",
    "        for queue in range(ToOrder[which]):\n",
    "            per_queue[queue].append(queue_times[queue])\n",
    "    return per_queue\n",
    "\n",
    "#results[i][N][\"TimeQueueSize\"] == results for rep i, size N\n",
    "def ecdf_time(result, N,  simrep=simrep):\n",
    "    \"\"\"Wrapper for cython implementation.\n",
    "    :return List[ecdf(t, rep) for rep in simrep, t in {arrivals, exits}]\"\"\"\n",
    "    return [datahelpers.EcdfOverTime(result, N, rep) for rep in simrep]\n",
    "\n",
    "def arr_t(X):\n",
    "    return np.array(X).transpose()[:,1]\n",
    "gc.collect() # clear memory of clutter from imports"
   ],
   "metadata": {
    "collapsed": false,
    "pycharm": {
     "name": "#%%\n"
    }
   }
  },
  {
   "cell_type": "markdown",
   "source": [
    "Premise: ACF as in https://dsp.stackexchange.com/questions/41444/understanding-the-definition-of-mean-autocorrelation\n",
    "\n",
    "-- if deterministic, expect a strong consistent pattern as in (https://nwfsc-timeseries.github.io/atsa-labs/sec-tslab-correlation-within-and-among-time-series.html).\n",
    "Randomness turns into something akin to measurement error in estimation theory.\n",
    "\n",
    "-- Contrast: Gaussian & Poisson processes https://nwfsc-timeseries.github.io/atsa-labs/sec-tslab-white-noise-wn.html#fig:tslab-plotDWNsims"
   ],
   "metadata": {
    "collapsed": false,
    "pycharm": {
     "name": "#%% md\n"
    }
   }
  },
  {
   "cell_type": "code",
   "execution_count": 37,
   "outputs": [
    {
     "name": "stdout",
     "output_type": "stream",
     "text": [
      "Running <bound method Concurrent.TSim of <__main__.Concurrent object at 0x7ff3c55dde80>>\n"
     ]
    },
    {
     "ename": "NameError",
     "evalue": "name 'e' is not defined",
     "output_type": "error",
     "traceback": [
      "\u001B[0;31m---------------------------------------------------------------------------\u001B[0m",
      "\u001B[0;31mNameError\u001B[0m                                 Traceback (most recent call last)",
      "\u001B[0;32m<ipython-input-37-e879a96f41b5>\u001B[0m in \u001B[0;36m<module>\u001B[0;34m\u001B[0m\n\u001B[1;32m     15\u001B[0m             \u001B[0mresults\u001B[0m \u001B[0;34m=\u001B[0m \u001B[0mSafeRun\u001B[0m\u001B[0;34m(\u001B[0m\u001B[0mof\u001B[0m\u001B[0;34m=\u001B[0m\u001B[0;34m\"TSim\"\u001B[0m\u001B[0;34m,\u001B[0m \u001B[0morder\u001B[0m\u001B[0;34m=\u001B[0m\u001B[0;34m[\u001B[0m\u001B[0mToOrder\u001B[0m\u001B[0;34m[\u001B[0m\u001B[0mi\u001B[0m\u001B[0;34m]\u001B[0m\u001B[0;34m]\u001B[0m\u001B[0;34m,\u001B[0m \u001B[0mmaxtime\u001B[0m\u001B[0;34m=\u001B[0m\u001B[0mmaxtime\u001B[0m\u001B[0;34m,\u001B[0m \u001B[0mrho\u001B[0m \u001B[0;34m=\u001B[0m \u001B[0mr\u001B[0m\u001B[0;34m,\u001B[0m \u001B[0mr\u001B[0m \u001B[0;34m=\u001B[0m \u001B[0mthresh\u001B[0m\u001B[0;34m,\u001B[0m \u001B[0msimrep\u001B[0m\u001B[0;34m=\u001B[0m\u001B[0msimrep\u001B[0m\u001B[0;34m,\u001B[0m \u001B[0mts\u001B[0m\u001B[0;34m=\u001B[0m\u001B[0;32mFalse\u001B[0m\u001B[0;34m,\u001B[0m \u001B[0mseed\u001B[0m\u001B[0;34m=\u001B[0m\u001B[0mseed\u001B[0m\u001B[0;34m)\u001B[0m\u001B[0;34m\u001B[0m\u001B[0;34m\u001B[0m\u001B[0m\n\u001B[1;32m     16\u001B[0m             \u001B[0mresults\u001B[0m \u001B[0;34m=\u001B[0m \u001B[0mresults\u001B[0m\u001B[0;34m[\u001B[0m\u001B[0mlist\u001B[0m\u001B[0;34m(\u001B[0m\u001B[0mresults\u001B[0m\u001B[0;34m.\u001B[0m\u001B[0mkeys\u001B[0m\u001B[0;34m(\u001B[0m\u001B[0;34m)\u001B[0m\u001B[0;34m)\u001B[0m\u001B[0;34m[\u001B[0m\u001B[0;36m0\u001B[0m\u001B[0;34m]\u001B[0m\u001B[0;34m]\u001B[0m \u001B[0;31m#\u001B[0m\u001B[0;34m\u001B[0m\u001B[0;34m\u001B[0m\u001B[0m\n\u001B[0;32m---> 17\u001B[0;31m             \u001B[0me\u001B[0m\u001B[0;34m\u001B[0m\u001B[0;34m\u001B[0m\u001B[0m\n\u001B[0m\u001B[1;32m     18\u001B[0m             \u001B[0msim_per_queue\u001B[0m \u001B[0;34m=\u001B[0m \u001B[0mrearrange_for_test\u001B[0m\u001B[0;34m(\u001B[0m\u001B[0mresults\u001B[0m\u001B[0;34m,\u001B[0m\u001B[0mi\u001B[0m\u001B[0;34m)\u001B[0m\u001B[0;34m\u001B[0m\u001B[0;34m\u001B[0m\u001B[0m\n\u001B[1;32m     19\u001B[0m             \u001B[0;32mdel\u001B[0m \u001B[0mresults\u001B[0m\u001B[0;34m\u001B[0m\u001B[0;34m\u001B[0m\u001B[0m\n",
      "\u001B[0;31mNameError\u001B[0m: name 'e' is not defined"
     ]
    }
   ],
   "source": [
    "# Outputs in tex tabular style\n",
    "def sig(a):\n",
    "    if a < 0.01:\n",
    "        return \"***\"\n",
    "    elif a < 0.05:\n",
    "        return \"**\"\n",
    "    elif a < 0.1:\n",
    "        return \"*\"\n",
    "    return \"\"\n",
    "\n",
    "\n",
    "for r in [0.8, 0.9, 0.99]: #0.8, 0.9, 0.99]: # values of rho to test\n",
    "    for thresh in [1,2]:\n",
    "        for i in range(len(ToOrder)):\n",
    "            results = SafeRun(of=\"TSim\", order=[ToOrder[i]], maxtime=maxtime, rho = r, r = thresh, simrep=simrep, ts=False, seed=seed)\n",
    "            results = results[list(results.keys())[0]] #\n",
    "            sim_per_queue = rearrange_for_test(results,i)\n",
    "            del results\n",
    "            gc.collect()\n",
    "            f = io.StringIO()\n",
    "            data_sim=np.array([(hsic.time_sampler(sim_per_queue[m], rng)) for m in range(ToOrder[i])])\n",
    "            del sim_per_queue\n",
    "            print(data_sim.shape)\n",
    "            data_sim = np.mean(np.mean(data_sim, axis=0), axis=1)\n",
    "            sm.graphics.tsa.plot_acf(data_sim, alpha=0.05)\n",
    "            plt.savefig(f\"output/{thresh}_{i}_{r}_{time.time()}.png\")\n",
    "            del data_sim\n",
    "            gc.collect()\n",
    "#exit()#%%\n"
   ],
   "metadata": {
    "collapsed": false,
    "pycharm": {
     "name": "#%%\n"
    }
   }
  },
  {
   "cell_type": "code",
   "execution_count": null,
   "outputs": [],
   "source": [],
   "metadata": {
    "collapsed": false,
    "pycharm": {
     "name": "#%%data_\n"
    }
   }
  },
  {
   "cell_type": "code",
   "execution_count": null,
   "outputs": [],
   "source": [
    "\n",
    "\n"
   ],
   "metadata": {
    "collapsed": false,
    "pycharm": {
     "name": "#%%\n"
    }
   }
  }
 ],
 "metadata": {
  "kernelspec": {
   "name": "python3",
   "language": "python",
   "display_name": "Python 3"
  },
  "language_info": {
   "codemirror_mode": {
    "name": "ipython",
    "version": 2
   },
   "file_extension": ".py",
   "mimetype": "text/x-python",
   "name": "python",
   "nbconvert_exporter": "python",
   "pygments_lexer": "ipython2",
   "version": "2.7.6"
  }
 },
 "nbformat": 4,
 "nbformat_minor": 0
}